{
 "cells": [
  {
   "cell_type": "markdown",
   "id": "044c6e05",
   "metadata": {},
   "source": [
    "На вебинаре мы говорили что долгое время CNN и RNN архитектуры были конкурирующими, выяснить какая архитектура больше подходит для задачи сентимент анализа на данных с вебинара\n",
    "\n",
    "1. построить свёрточную архитектуру\n",
    "2. построить различные архитектуры с RNN\n",
    "3. построить совместные архитектуры CNN -> RNN и/или (RNN -> CNN)\n",
    "4. сделать выводы что получилось лучше\n"
   ]
  },
  {
   "cell_type": "code",
   "execution_count": 1,
   "id": "f78b3340",
   "metadata": {},
   "outputs": [
    {
     "name": "stderr",
     "output_type": "stream",
     "text": [
      "[nltk_data] Downloading package punkt to\n",
      "[nltk_data]     C:\\Users\\spvag\\AppData\\Roaming\\nltk_data...\n",
      "[nltk_data]   Package punkt is already up-to-date!\n"
     ]
    }
   ],
   "source": [
    "import numpy as np\n",
    "import pandas as pd\n",
    "from sklearn.model_selection import train_test_split\n",
    "from nltk.tokenize import word_tokenize\n",
    "import nltk\n",
    "nltk.download('punkt')\n",
    "from nltk.probability import FreqDist\n",
    "import gensim\n",
    "import tensorflow as tf\n",
    "import keras\n",
    "from keras.models import Sequential, Model\n",
    "from keras.layers import Dense, Dropout, Activation, Input, Embedding, Conv1D, GlobalMaxPool1D\n",
    "from keras.layers import SimpleRNN, LSTM, GRU, Masking, Bidirectional\n",
    "from keras.preprocessing.text import Tokenizer\n",
    "# from keras.preprocessing.sequence import pad_sequences\n",
    "from keras.losses import categorical_crossentropy\n",
    "from keras.callbacks import EarlyStopping "
   ]
  },
  {
   "cell_type": "code",
   "execution_count": 2,
   "id": "ed080ab1",
   "metadata": {},
   "outputs": [
    {
     "name": "stderr",
     "output_type": "stream",
     "text": [
      "[nltk_data] Downloading package stopwords to\n",
      "[nltk_data]     C:\\Users\\spvag\\AppData\\Roaming\\nltk_data...\n",
      "[nltk_data]   Package stopwords is already up-to-date!\n"
     ]
    }
   ],
   "source": [
    "from my_tool import txt_preprocessing "
   ]
  },
  {
   "cell_type": "code",
   "execution_count": 3,
   "id": "c5d759d8",
   "metadata": {},
   "outputs": [],
   "source": [
    "df = pd.read_excel(\"Отзывы.xlsx\")"
   ]
  },
  {
   "cell_type": "code",
   "execution_count": 4,
   "id": "d28e60f6",
   "metadata": {},
   "outputs": [],
   "source": [
    "df = df[df.Content.notna()]"
   ]
  },
  {
   "cell_type": "code",
   "execution_count": 5,
   "id": "be043a0f",
   "metadata": {},
   "outputs": [],
   "source": [
    "df['Rating'] = df['Rating'] - 1"
   ]
  },
  {
   "cell_type": "code",
   "execution_count": 6,
   "id": "a673ddba",
   "metadata": {},
   "outputs": [],
   "source": [
    "df['preprocess_Content'] = df['Content'].apply(lambda x: txt_preprocessing.ru_preprocessing(x, True))"
   ]
  },
  {
   "cell_type": "code",
   "execution_count": 7,
   "id": "a63d1eef",
   "metadata": {},
   "outputs": [],
   "source": [
    "model = gensim.models.KeyedVectors.load_word2vec_format('model.bin', binary=True)"
   ]
  },
  {
   "cell_type": "code",
   "execution_count": 8,
   "id": "415c823e",
   "metadata": {},
   "outputs": [
    {
     "data": {
      "text/plain": [
       "(248978, 300)"
      ]
     },
     "execution_count": 8,
     "metadata": {},
     "output_type": "execute_result"
    }
   ],
   "source": [
    "matrix_weights = model.vectors\n",
    "matrix = []\n",
    "matrix.append(matrix_weights)\n",
    "matrix_weights.shape"
   ]
  },
  {
   "cell_type": "code",
   "execution_count": 9,
   "id": "45a4a110",
   "metadata": {},
   "outputs": [],
   "source": [
    "vocab = {word: i for i, word in enumerate(model.index_to_key)}"
   ]
  },
  {
   "cell_type": "code",
   "execution_count": 10,
   "id": "5e4a2236",
   "metadata": {},
   "outputs": [],
   "source": [
    "def text_to_sequence_pos(vocabulary, text, maxlen = 40):\n",
    "    result = [] \n",
    "    for word in text.split():      \n",
    "        if word in vocabulary:\n",
    "            result.append(vocabulary[word])\n",
    "    padding = [0]*(maxlen-len(result))\n",
    "    return padding + result[-maxlen:]"
   ]
  },
  {
   "cell_type": "code",
   "execution_count": 11,
   "id": "f015f80e",
   "metadata": {},
   "outputs": [],
   "source": [
    "df['train'] = df[\"preprocess_Content\"].apply(lambda x:text_to_sequence_pos(vocab, x))"
   ]
  },
  {
   "cell_type": "code",
   "execution_count": 12,
   "id": "61b851b0",
   "metadata": {},
   "outputs": [],
   "source": [
    "X_train, X_test, y_train, y_test = train_test_split(df.train, df.Rating, test_size=0.25, random_state=42)\n",
    "X_train = np.array([ txt for txt in X_train])\n",
    "X_test = np.array([ txt for txt in X_test])"
   ]
  },
  {
   "cell_type": "code",
   "execution_count": 13,
   "id": "9325f366",
   "metadata": {},
   "outputs": [],
   "source": [
    "y_train = keras.utils.to_categorical(y_train, num_classes=5)\n",
    "y_test = keras.utils.to_categorical(y_test, num_classes=5)"
   ]
  },
  {
   "cell_type": "code",
   "execution_count": 14,
   "id": "dba8937a",
   "metadata": {},
   "outputs": [],
   "source": [
    "max_words = matrix_weights.shape[0]"
   ]
  },
  {
   "cell_type": "code",
   "execution_count": 15,
   "id": "29960746",
   "metadata": {},
   "outputs": [],
   "source": [
    "max_len = 40\n",
    "epochs = 100\n",
    "batch_size = 512\n",
    "print_batch_n = 100\n",
    "num_classes = 5"
   ]
  },
  {
   "cell_type": "code",
   "execution_count": 16,
   "id": "9a3c503c",
   "metadata": {},
   "outputs": [],
   "source": [
    "callback = EarlyStopping(monitor='val_loss', patience=5, min_delta=0.0001, verbose=1)\n",
    "opt = keras.optimizers.Adam(learning_rate=0.0005)\n",
    "loss='categorical_crossentropy'"
   ]
  },
  {
   "cell_type": "markdown",
   "id": "5e25d2c2",
   "metadata": {},
   "source": [
    "## Сверточная архитектура"
   ]
  },
  {
   "cell_type": "code",
   "execution_count": 17,
   "id": "f1671fd0",
   "metadata": {},
   "outputs": [],
   "source": [
    "model_CNN = Sequential()\n",
    "model_CNN.add(Embedding(input_dim=max_words, output_dim=300, input_length=max_len, trainable=False))\n",
    "model_CNN.add(Conv1D(300, 3))\n",
    "model_CNN.add(Activation(\"relu\"))\n",
    "model_CNN.add(GlobalMaxPool1D())\n",
    "model_CNN.add(Dense(50))\n",
    "model_CNN.add(Activation(\"relu\"))\n",
    "model_CNN.add(Dense(num_classes))\n",
    "model_CNN.add(Activation('softmax'))"
   ]
  },
  {
   "cell_type": "code",
   "execution_count": 18,
   "id": "8b0dc049",
   "metadata": {},
   "outputs": [],
   "source": [
    "model_CNN.compile(loss=loss, optimizer=opt, metrics=['accuracy'])\n",
    "model_CNN.layers[0].set_weights(matrix)"
   ]
  },
  {
   "cell_type": "code",
   "execution_count": 19,
   "id": "1eedf8c8",
   "metadata": {},
   "outputs": [
    {
     "name": "stdout",
     "output_type": "stream",
     "text": [
      "Epoch 1/100\n",
      "28/28 - 8s - loss: 0.9557 - accuracy: 0.6977 - val_loss: 0.8385 - val_accuracy: 0.7265 - 8s/epoch - 299ms/step\n",
      "Epoch 2/100\n",
      "28/28 - 4s - loss: 0.7301 - accuracy: 0.7530 - val_loss: 0.7657 - val_accuracy: 0.7374 - 4s/epoch - 154ms/step\n",
      "Epoch 3/100\n",
      "28/28 - 4s - loss: 0.6729 - accuracy: 0.7643 - val_loss: 0.7385 - val_accuracy: 0.7426 - 4s/epoch - 153ms/step\n",
      "Epoch 4/100\n",
      "28/28 - 4s - loss: 0.6368 - accuracy: 0.7755 - val_loss: 0.7303 - val_accuracy: 0.7490 - 4s/epoch - 154ms/step\n",
      "Epoch 5/100\n",
      "28/28 - 5s - loss: 0.6120 - accuracy: 0.7839 - val_loss: 0.7176 - val_accuracy: 0.7471 - 5s/epoch - 161ms/step\n",
      "Epoch 6/100\n",
      "28/28 - 4s - loss: 0.5851 - accuracy: 0.7972 - val_loss: 0.7212 - val_accuracy: 0.7490 - 4s/epoch - 155ms/step\n",
      "Epoch 7/100\n",
      "28/28 - 4s - loss: 0.5597 - accuracy: 0.8073 - val_loss: 0.7227 - val_accuracy: 0.7523 - 4s/epoch - 154ms/step\n",
      "Epoch 8/100\n",
      "28/28 - 4s - loss: 0.5377 - accuracy: 0.8147 - val_loss: 0.7253 - val_accuracy: 0.7484 - 4s/epoch - 154ms/step\n",
      "Epoch 9/100\n",
      "28/28 - 4s - loss: 0.5141 - accuracy: 0.8297 - val_loss: 0.7136 - val_accuracy: 0.7548 - 4s/epoch - 156ms/step\n",
      "Epoch 10/100\n",
      "28/28 - 4s - loss: 0.4906 - accuracy: 0.8393 - val_loss: 0.7145 - val_accuracy: 0.7529 - 4s/epoch - 155ms/step\n",
      "Epoch 11/100\n",
      "28/28 - 4s - loss: 0.4665 - accuracy: 0.8528 - val_loss: 0.7177 - val_accuracy: 0.7490 - 4s/epoch - 156ms/step\n",
      "Epoch 12/100\n",
      "28/28 - 4s - loss: 0.4438 - accuracy: 0.8641 - val_loss: 0.7179 - val_accuracy: 0.7529 - 4s/epoch - 156ms/step\n",
      "Epoch 13/100\n",
      "28/28 - 4s - loss: 0.4158 - accuracy: 0.8772 - val_loss: 0.7342 - val_accuracy: 0.7471 - 4s/epoch - 154ms/step\n",
      "Epoch 14/100\n",
      "28/28 - 4s - loss: 0.3949 - accuracy: 0.8881 - val_loss: 0.7396 - val_accuracy: 0.7432 - 4s/epoch - 154ms/step\n",
      "Epoch 14: early stopping\n",
      "Wall time: 1min 5s\n"
     ]
    }
   ],
   "source": [
    "%%time\n",
    "history_CNN = model_CNN.fit(X_train, y_train, batch_size=batch_size,\n",
    "                    epochs=epochs, verbose=2, validation_split=0.1, callbacks=[callback])"
   ]
  },
  {
   "cell_type": "code",
   "execution_count": 20,
   "id": "fc47a451",
   "metadata": {},
   "outputs": [
    {
     "name": "stdout",
     "output_type": "stream",
     "text": [
      "162/162 [==============================] - 1s 6ms/step - loss: 0.6671 - accuracy: 0.7696\n"
     ]
    }
   ],
   "source": [
    "_, accu = model_CNN.evaluate(X_test, y_test)"
   ]
  },
  {
   "cell_type": "code",
   "execution_count": 21,
   "id": "5389faf9",
   "metadata": {},
   "outputs": [],
   "source": [
    "res = {'Модель':['CNN'], 'Эпох':[len(history_CNN.epoch)], 'Accuracy':[accu] }\n",
    "result = pd.DataFrame(res)"
   ]
  },
  {
   "cell_type": "code",
   "execution_count": null,
   "id": "2433e5df",
   "metadata": {},
   "outputs": [],
   "source": []
  },
  {
   "cell_type": "markdown",
   "id": "52cdde7a",
   "metadata": {},
   "source": [
    "## RNN архитектура"
   ]
  },
  {
   "cell_type": "code",
   "execution_count": 22,
   "id": "17f3f654",
   "metadata": {},
   "outputs": [],
   "source": [
    "model_RNN = Sequential()\n",
    "model_RNN.add(Embedding(input_dim=max_words, output_dim=300, input_length=max_len, trainable=False))\n",
    "model_RNN.add(Masking(mask_value=0.0))\n",
    "model_RNN.add(Bidirectional(SimpleRNN(128, return_sequences=True, recurrent_dropout=0.3)))\n",
    "model_RNN.add(Bidirectional(SimpleRNN(64, recurrent_dropout=0.3)))\n",
    "model_RNN.add(Dense(50))\n",
    "model_RNN.add(Activation(\"relu\"))\n",
    "model_RNN.add(Dense(num_classes))\n",
    "model_RNN.add(Activation('softmax'))"
   ]
  },
  {
   "cell_type": "code",
   "execution_count": 23,
   "id": "03629fad",
   "metadata": {},
   "outputs": [],
   "source": [
    "model_RNN.compile(loss=loss, optimizer=opt, metrics=['accuracy'])\n",
    "model_RNN.layers[0].set_weights(matrix)"
   ]
  },
  {
   "cell_type": "code",
   "execution_count": 24,
   "id": "dd75c7bc",
   "metadata": {},
   "outputs": [
    {
     "name": "stdout",
     "output_type": "stream",
     "text": [
      "Epoch 1/100\n",
      "28/28 - 19s - loss: 0.8697 - accuracy: 0.7104 - val_loss: 0.8102 - val_accuracy: 0.7303 - 19s/epoch - 669ms/step\n",
      "Epoch 2/100\n",
      "28/28 - 13s - loss: 0.7289 - accuracy: 0.7467 - val_loss: 0.7757 - val_accuracy: 0.7381 - 13s/epoch - 466ms/step\n",
      "Epoch 3/100\n",
      "28/28 - 14s - loss: 0.6976 - accuracy: 0.7575 - val_loss: 0.7687 - val_accuracy: 0.7432 - 14s/epoch - 484ms/step\n",
      "Epoch 4/100\n",
      "28/28 - 13s - loss: 0.6869 - accuracy: 0.7614 - val_loss: 0.7679 - val_accuracy: 0.7335 - 13s/epoch - 466ms/step\n",
      "Epoch 5/100\n",
      "28/28 - 13s - loss: 0.6749 - accuracy: 0.7631 - val_loss: 0.7723 - val_accuracy: 0.7348 - 13s/epoch - 470ms/step\n",
      "Epoch 6/100\n",
      "28/28 - 13s - loss: 0.6740 - accuracy: 0.7650 - val_loss: 0.7566 - val_accuracy: 0.7400 - 13s/epoch - 468ms/step\n",
      "Epoch 7/100\n",
      "28/28 - 13s - loss: 0.6617 - accuracy: 0.7675 - val_loss: 0.7665 - val_accuracy: 0.7445 - 13s/epoch - 478ms/step\n",
      "Epoch 8/100\n",
      "28/28 - 13s - loss: 0.6574 - accuracy: 0.7685 - val_loss: 0.7580 - val_accuracy: 0.7387 - 13s/epoch - 468ms/step\n",
      "Epoch 9/100\n",
      "28/28 - 13s - loss: 0.6481 - accuracy: 0.7731 - val_loss: 0.7622 - val_accuracy: 0.7406 - 13s/epoch - 469ms/step\n",
      "Epoch 10/100\n",
      "28/28 - 14s - loss: 0.6403 - accuracy: 0.7730 - val_loss: 0.7569 - val_accuracy: 0.7413 - 14s/epoch - 486ms/step\n",
      "Epoch 11/100\n",
      "28/28 - 13s - loss: 0.6369 - accuracy: 0.7783 - val_loss: 0.7575 - val_accuracy: 0.7458 - 13s/epoch - 481ms/step\n",
      "Epoch 11: early stopping\n",
      "Wall time: 2min 31s\n"
     ]
    }
   ],
   "source": [
    "%%time\n",
    "history_RNN = model_RNN.fit(X_train, y_train, batch_size=batch_size,\n",
    "                    epochs=epochs, verbose=2, validation_split=0.1, callbacks=[callback])"
   ]
  },
  {
   "cell_type": "code",
   "execution_count": 25,
   "id": "2a32252f",
   "metadata": {},
   "outputs": [
    {
     "name": "stdout",
     "output_type": "stream",
     "text": [
      "162/162 [==============================] - 2s 14ms/step - loss: 0.6608 - accuracy: 0.7707\n"
     ]
    }
   ],
   "source": [
    "_, accu = model_RNN.evaluate(X_test, y_test)"
   ]
  },
  {
   "cell_type": "code",
   "execution_count": 26,
   "id": "df55f568",
   "metadata": {},
   "outputs": [],
   "source": [
    "res = {'Модель':'RNN', 'Эпох':len(history_RNN.epoch), 'Accuracy':accu}\n",
    "result = result.append(res, ignore_index=True)"
   ]
  },
  {
   "cell_type": "code",
   "execution_count": null,
   "id": "8ac0038d",
   "metadata": {},
   "outputs": [],
   "source": []
  },
  {
   "cell_type": "markdown",
   "id": "f04a1b85",
   "metadata": {},
   "source": [
    "## GRU архитектура"
   ]
  },
  {
   "cell_type": "code",
   "execution_count": 27,
   "id": "e314980f",
   "metadata": {},
   "outputs": [],
   "source": [
    "model_GRU = Sequential()\n",
    "model_GRU.add(Embedding(input_dim=max_words, output_dim=300, input_length=max_len, trainable=False))\n",
    "model_GRU.add(Masking(mask_value=0.0))\n",
    "model_GRU.add(Bidirectional(GRU(128, recurrent_dropout=0.3, return_sequences=True)))\n",
    "model_GRU.add(Bidirectional(GRU(64, recurrent_dropout=0.3)))\n",
    "model_GRU.add(Dense(50))\n",
    "model_GRU.add(Activation(\"relu\"))\n",
    "model_GRU.add(Dense(num_classes))\n",
    "model_GRU.add(Activation('softmax'))"
   ]
  },
  {
   "cell_type": "code",
   "execution_count": 28,
   "id": "94ffeb6a",
   "metadata": {},
   "outputs": [],
   "source": [
    "model_GRU.compile(loss=loss, optimizer=opt, metrics=['accuracy'])\n",
    "model_GRU.layers[0].set_weights(matrix)"
   ]
  },
  {
   "cell_type": "code",
   "execution_count": 29,
   "id": "66b1dc3c",
   "metadata": {},
   "outputs": [
    {
     "name": "stdout",
     "output_type": "stream",
     "text": [
      "Epoch 1/100\n",
      "28/28 - 46s - loss: 0.8482 - accuracy: 0.7182 - val_loss: 0.7814 - val_accuracy: 0.7265 - 46s/epoch - 2s/step\n",
      "Epoch 2/100\n",
      "28/28 - 39s - loss: 0.6815 - accuracy: 0.7629 - val_loss: 0.7505 - val_accuracy: 0.7413 - 39s/epoch - 1s/step\n",
      "Epoch 3/100\n",
      "28/28 - 41s - loss: 0.6429 - accuracy: 0.7758 - val_loss: 0.7160 - val_accuracy: 0.7497 - 41s/epoch - 1s/step\n",
      "Epoch 4/100\n",
      "28/28 - 42s - loss: 0.6164 - accuracy: 0.7850 - val_loss: 0.7191 - val_accuracy: 0.7490 - 42s/epoch - 1s/step\n",
      "Epoch 5/100\n",
      "28/28 - 43s - loss: 0.6047 - accuracy: 0.7861 - val_loss: 0.7134 - val_accuracy: 0.7490 - 43s/epoch - 2s/step\n",
      "Epoch 6/100\n",
      "28/28 - 44s - loss: 0.5990 - accuracy: 0.7896 - val_loss: 0.7057 - val_accuracy: 0.7555 - 44s/epoch - 2s/step\n",
      "Epoch 7/100\n",
      "28/28 - 43s - loss: 0.5825 - accuracy: 0.7959 - val_loss: 0.7171 - val_accuracy: 0.7471 - 43s/epoch - 2s/step\n",
      "Epoch 8/100\n",
      "28/28 - 45s - loss: 0.5755 - accuracy: 0.7997 - val_loss: 0.7053 - val_accuracy: 0.7535 - 45s/epoch - 2s/step\n",
      "Epoch 9/100\n",
      "28/28 - 46s - loss: 0.5643 - accuracy: 0.8023 - val_loss: 0.7107 - val_accuracy: 0.7484 - 46s/epoch - 2s/step\n",
      "Epoch 10/100\n",
      "28/28 - 46s - loss: 0.5637 - accuracy: 0.8025 - val_loss: 0.7063 - val_accuracy: 0.7510 - 46s/epoch - 2s/step\n",
      "Epoch 11/100\n",
      "28/28 - 47s - loss: 0.5509 - accuracy: 0.8071 - val_loss: 0.7072 - val_accuracy: 0.7555 - 47s/epoch - 2s/step\n",
      "Epoch 12/100\n",
      "28/28 - 48s - loss: 0.5452 - accuracy: 0.8112 - val_loss: 0.7025 - val_accuracy: 0.7535 - 48s/epoch - 2s/step\n",
      "Epoch 13/100\n",
      "28/28 - 48s - loss: 0.5424 - accuracy: 0.8113 - val_loss: 0.7268 - val_accuracy: 0.7445 - 48s/epoch - 2s/step\n",
      "Epoch 14/100\n",
      "28/28 - 49s - loss: 0.5248 - accuracy: 0.8159 - val_loss: 0.7196 - val_accuracy: 0.7490 - 49s/epoch - 2s/step\n",
      "Epoch 15/100\n",
      "28/28 - 49s - loss: 0.5152 - accuracy: 0.8235 - val_loss: 0.7310 - val_accuracy: 0.7503 - 49s/epoch - 2s/step\n",
      "Epoch 16/100\n",
      "28/28 - 49s - loss: 0.5079 - accuracy: 0.8238 - val_loss: 0.7372 - val_accuracy: 0.7484 - 49s/epoch - 2s/step\n",
      "Epoch 17/100\n",
      "28/28 - 49s - loss: 0.5004 - accuracy: 0.8242 - val_loss: 0.7574 - val_accuracy: 0.7445 - 49s/epoch - 2s/step\n",
      "Epoch 17: early stopping\n",
      "Wall time: 12min 54s\n"
     ]
    }
   ],
   "source": [
    "%%time\n",
    "history_GRU = model_GRU.fit(X_train, y_train, batch_size=batch_size,\n",
    "                    epochs=epochs, verbose=2, validation_split=0.1, callbacks=[callback])"
   ]
  },
  {
   "cell_type": "code",
   "execution_count": 30,
   "id": "c6ab8301",
   "metadata": {},
   "outputs": [
    {
     "name": "stdout",
     "output_type": "stream",
     "text": [
      "162/162 [==============================] - 8s 46ms/step - loss: 0.6708 - accuracy: 0.7719\n"
     ]
    }
   ],
   "source": [
    "_, accu = model_GRU.evaluate(X_test, y_test)"
   ]
  },
  {
   "cell_type": "code",
   "execution_count": 31,
   "id": "dac1ecc7",
   "metadata": {},
   "outputs": [],
   "source": [
    "res = {'Модель':'GRU', 'Эпох':len(history_GRU.epoch), 'Accuracy':accu}\n",
    "result = result.append(res, ignore_index=True)"
   ]
  },
  {
   "cell_type": "code",
   "execution_count": null,
   "id": "00cb8da7",
   "metadata": {},
   "outputs": [],
   "source": []
  },
  {
   "cell_type": "markdown",
   "id": "38ead22b",
   "metadata": {},
   "source": [
    "## LSTM архитектура"
   ]
  },
  {
   "cell_type": "code",
   "execution_count": 32,
   "id": "77189ce1",
   "metadata": {},
   "outputs": [],
   "source": [
    "model_LSTM = Sequential()\n",
    "model_LSTM.add(Embedding(input_dim=max_words, output_dim=300, input_length=max_len, trainable=False))\n",
    "model_LSTM.add(Masking(mask_value=0.0))\n",
    "model_LSTM.add(Bidirectional(LSTM(128, recurrent_dropout=0.3, return_sequences=True)))\n",
    "model_LSTM.add(Bidirectional(LSTM(64, recurrent_dropout=0.3)))\n",
    "model_LSTM.add(Dense(50))\n",
    "model_LSTM.add(Activation(\"relu\"))\n",
    "model_LSTM.add(Dense(num_classes))\n",
    "model_LSTM.add(Activation('softmax'))"
   ]
  },
  {
   "cell_type": "code",
   "execution_count": 33,
   "id": "dd9d53a9",
   "metadata": {},
   "outputs": [],
   "source": [
    "model_LSTM.compile(loss=loss, optimizer=opt, metrics=['accuracy'])\n",
    "model_LSTM.layers[0].set_weights(matrix)"
   ]
  },
  {
   "cell_type": "code",
   "execution_count": 34,
   "id": "52a7fb36",
   "metadata": {},
   "outputs": [
    {
     "name": "stdout",
     "output_type": "stream",
     "text": [
      "Epoch 1/100\n",
      "28/28 - 80s - loss: 0.9111 - accuracy: 0.6956 - val_loss: 0.8382 - val_accuracy: 0.7200 - 80s/epoch - 3s/step\n",
      "Epoch 2/100\n",
      "28/28 - 69s - loss: 0.7170 - accuracy: 0.7515 - val_loss: 0.7593 - val_accuracy: 0.7406 - 69s/epoch - 2s/step\n",
      "Epoch 3/100\n",
      "28/28 - 73s - loss: 0.6678 - accuracy: 0.7679 - val_loss: 0.7637 - val_accuracy: 0.7381 - 73s/epoch - 3s/step\n",
      "Epoch 4/100\n",
      "28/28 - 75s - loss: 0.6485 - accuracy: 0.7727 - val_loss: 0.7369 - val_accuracy: 0.7406 - 75s/epoch - 3s/step\n",
      "Epoch 5/100\n",
      "28/28 - 76s - loss: 0.6299 - accuracy: 0.7807 - val_loss: 0.7256 - val_accuracy: 0.7484 - 76s/epoch - 3s/step\n",
      "Epoch 6/100\n",
      "28/28 - 75s - loss: 0.6119 - accuracy: 0.7875 - val_loss: 0.7362 - val_accuracy: 0.7452 - 75s/epoch - 3s/step\n",
      "Epoch 7/100\n",
      "28/28 - 76s - loss: 0.6023 - accuracy: 0.7870 - val_loss: 0.7245 - val_accuracy: 0.7471 - 76s/epoch - 3s/step\n",
      "Epoch 8/100\n",
      "28/28 - 76s - loss: 0.5897 - accuracy: 0.7929 - val_loss: 0.7150 - val_accuracy: 0.7523 - 76s/epoch - 3s/step\n",
      "Epoch 9/100\n",
      "28/28 - 77s - loss: 0.5789 - accuracy: 0.7977 - val_loss: 0.7200 - val_accuracy: 0.7484 - 77s/epoch - 3s/step\n",
      "Epoch 10/100\n",
      "28/28 - 77s - loss: 0.5708 - accuracy: 0.8010 - val_loss: 0.7311 - val_accuracy: 0.7503 - 77s/epoch - 3s/step\n",
      "Epoch 11/100\n",
      "28/28 - 75s - loss: 0.5578 - accuracy: 0.8052 - val_loss: 0.7629 - val_accuracy: 0.7445 - 75s/epoch - 3s/step\n",
      "Epoch 12/100\n",
      "28/28 - 75s - loss: 0.5528 - accuracy: 0.8065 - val_loss: 0.7508 - val_accuracy: 0.7452 - 75s/epoch - 3s/step\n",
      "Epoch 13/100\n",
      "28/28 - 77s - loss: 0.5383 - accuracy: 0.8144 - val_loss: 0.7394 - val_accuracy: 0.7419 - 77s/epoch - 3s/step\n",
      "Epoch 13: early stopping\n",
      "Wall time: 16min 21s\n"
     ]
    }
   ],
   "source": [
    "%%time\n",
    "history_LSTM = model_LSTM.fit(X_train, y_train, batch_size=batch_size,\n",
    "                    epochs=epochs, verbose=2, validation_split=0.1, callbacks=[callback])"
   ]
  },
  {
   "cell_type": "code",
   "execution_count": 35,
   "id": "03983cb1",
   "metadata": {},
   "outputs": [
    {
     "name": "stdout",
     "output_type": "stream",
     "text": [
      "162/162 [==============================] - 20s 124ms/step - loss: 0.6496 - accuracy: 0.7767\n"
     ]
    }
   ],
   "source": [
    "_, accu = model_LSTM.evaluate(X_test, y_test)"
   ]
  },
  {
   "cell_type": "code",
   "execution_count": 36,
   "id": "489b9a61",
   "metadata": {},
   "outputs": [],
   "source": [
    "res = {'Модель':'LSTM', 'Эпох':len(history_LSTM.epoch), 'Accuracy':accu}\n",
    "result = result.append(res, ignore_index=True)"
   ]
  },
  {
   "cell_type": "code",
   "execution_count": null,
   "id": "1145d581",
   "metadata": {},
   "outputs": [],
   "source": []
  },
  {
   "cell_type": "markdown",
   "id": "09978acd",
   "metadata": {},
   "source": [
    "## Совместная архитектура CNN -> RNN"
   ]
  },
  {
   "cell_type": "code",
   "execution_count": 37,
   "id": "0138ef60",
   "metadata": {},
   "outputs": [],
   "source": [
    "model_CNN_RNN = Sequential()\n",
    "model_CNN_RNN.add(Embedding(input_dim=max_words, output_dim=300, input_length=max_len, trainable=False))\n",
    "model_CNN_RNN.add(Conv1D(300, 3))\n",
    "model_CNN_RNN.add(Activation(\"relu\"))\n",
    "model_CNN_RNN.add(Bidirectional(SimpleRNN(128, recurrent_dropout=0.3, return_sequences=True)))\n",
    "model_CNN_RNN.add(Bidirectional(SimpleRNN(64, recurrent_dropout=0.3)))\n",
    "model_CNN_RNN.add(Dense(50))\n",
    "model_CNN_RNN.add(Activation(\"relu\"))\n",
    "model_CNN_RNN.add(Dense(num_classes))\n",
    "model_CNN_RNN.add(Activation('softmax'))"
   ]
  },
  {
   "cell_type": "code",
   "execution_count": 38,
   "id": "fec6d7d8",
   "metadata": {},
   "outputs": [],
   "source": [
    "model_CNN_RNN.compile(loss=loss, optimizer=opt, metrics=['accuracy'])\n",
    "model_CNN_RNN.layers[0].set_weights(matrix)"
   ]
  },
  {
   "cell_type": "code",
   "execution_count": 39,
   "id": "cd499f63",
   "metadata": {},
   "outputs": [
    {
     "name": "stdout",
     "output_type": "stream",
     "text": [
      "Epoch 1/100\n",
      "28/28 - 23s - loss: 0.8493 - accuracy: 0.7154 - val_loss: 0.8092 - val_accuracy: 0.7310 - 23s/epoch - 827ms/step\n",
      "Epoch 2/100\n",
      "28/28 - 18s - loss: 0.7192 - accuracy: 0.7518 - val_loss: 0.7690 - val_accuracy: 0.7226 - 18s/epoch - 660ms/step\n",
      "Epoch 3/100\n",
      "28/28 - 19s - loss: 0.6816 - accuracy: 0.7642 - val_loss: 0.7768 - val_accuracy: 0.7432 - 19s/epoch - 676ms/step\n",
      "Epoch 4/100\n",
      "28/28 - 22s - loss: 0.6496 - accuracy: 0.7727 - val_loss: 0.7484 - val_accuracy: 0.7381 - 22s/epoch - 780ms/step\n",
      "Epoch 5/100\n",
      "28/28 - 20s - loss: 0.6348 - accuracy: 0.7783 - val_loss: 0.7578 - val_accuracy: 0.7394 - 20s/epoch - 708ms/step\n",
      "Epoch 6/100\n",
      "28/28 - 21s - loss: 0.6160 - accuracy: 0.7827 - val_loss: 0.7751 - val_accuracy: 0.7458 - 21s/epoch - 748ms/step\n",
      "Epoch 7/100\n",
      "28/28 - 18s - loss: 0.5918 - accuracy: 0.7932 - val_loss: 0.7903 - val_accuracy: 0.7368 - 18s/epoch - 658ms/step\n",
      "Epoch 8/100\n",
      "28/28 - 20s - loss: 0.5698 - accuracy: 0.8005 - val_loss: 0.7752 - val_accuracy: 0.7432 - 20s/epoch - 712ms/step\n",
      "Epoch 9/100\n",
      "28/28 - 19s - loss: 0.5383 - accuracy: 0.8122 - val_loss: 0.7710 - val_accuracy: 0.7503 - 19s/epoch - 678ms/step\n",
      "Epoch 9: early stopping\n",
      "Wall time: 3min\n"
     ]
    }
   ],
   "source": [
    "%%time\n",
    "history_CNN_RNN = model_CNN_RNN.fit(X_train, y_train, batch_size=batch_size,\n",
    "                    epochs=epochs, verbose=2, validation_split=0.1, callbacks=[callback])"
   ]
  },
  {
   "cell_type": "code",
   "execution_count": 40,
   "id": "79061180",
   "metadata": {},
   "outputs": [
    {
     "name": "stdout",
     "output_type": "stream",
     "text": [
      "162/162 [==============================] - 3s 16ms/step - loss: 0.6900 - accuracy: 0.7645\n"
     ]
    }
   ],
   "source": [
    "_, accu = model_CNN_RNN.evaluate(X_test, y_test)"
   ]
  },
  {
   "cell_type": "code",
   "execution_count": 41,
   "id": "cc905b03",
   "metadata": {},
   "outputs": [],
   "source": [
    "res = {'Модель':'CNN_RNN', 'Эпох':len(history_CNN_RNN.epoch), 'Accuracy':accu}\n",
    "result = result.append(res, ignore_index=True)"
   ]
  },
  {
   "cell_type": "code",
   "execution_count": null,
   "id": "568bf7df",
   "metadata": {},
   "outputs": [],
   "source": []
  },
  {
   "cell_type": "code",
   "execution_count": 43,
   "id": "a20d1bba",
   "metadata": {},
   "outputs": [
    {
     "data": {
      "text/html": [
       "<div>\n",
       "<style scoped>\n",
       "    .dataframe tbody tr th:only-of-type {\n",
       "        vertical-align: middle;\n",
       "    }\n",
       "\n",
       "    .dataframe tbody tr th {\n",
       "        vertical-align: top;\n",
       "    }\n",
       "\n",
       "    .dataframe thead th {\n",
       "        text-align: right;\n",
       "    }\n",
       "</style>\n",
       "<table border=\"1\" class=\"dataframe\">\n",
       "  <thead>\n",
       "    <tr style=\"text-align: right;\">\n",
       "      <th></th>\n",
       "      <th>Модель</th>\n",
       "      <th>Эпох</th>\n",
       "      <th>Accuracy</th>\n",
       "      <th>time</th>\n",
       "    </tr>\n",
       "  </thead>\n",
       "  <tbody>\n",
       "    <tr>\n",
       "      <th>0</th>\n",
       "      <td>CNN</td>\n",
       "      <td>14</td>\n",
       "      <td>0.769558</td>\n",
       "      <td>1min 5s</td>\n",
       "    </tr>\n",
       "    <tr>\n",
       "      <th>1</th>\n",
       "      <td>RNN</td>\n",
       "      <td>11</td>\n",
       "      <td>0.770720</td>\n",
       "      <td>2min 31s</td>\n",
       "    </tr>\n",
       "    <tr>\n",
       "      <th>2</th>\n",
       "      <td>GRU</td>\n",
       "      <td>17</td>\n",
       "      <td>0.771882</td>\n",
       "      <td>12min 54s</td>\n",
       "    </tr>\n",
       "    <tr>\n",
       "      <th>3</th>\n",
       "      <td>LSTM</td>\n",
       "      <td>13</td>\n",
       "      <td>0.776723</td>\n",
       "      <td>16min 21s</td>\n",
       "    </tr>\n",
       "    <tr>\n",
       "      <th>4</th>\n",
       "      <td>CNN_RNN</td>\n",
       "      <td>9</td>\n",
       "      <td>0.764524</td>\n",
       "      <td>3min</td>\n",
       "    </tr>\n",
       "  </tbody>\n",
       "</table>\n",
       "</div>"
      ],
      "text/plain": [
       "    Модель  Эпох  Accuracy       time\n",
       "0      CNN    14  0.769558    1min 5s\n",
       "1      RNN    11  0.770720   2min 31s\n",
       "2      GRU    17  0.771882  12min 54s\n",
       "3     LSTM    13  0.776723  16min 21s\n",
       "4  CNN_RNN     9  0.764524       3min"
      ]
     },
     "execution_count": 43,
     "metadata": {},
     "output_type": "execute_result"
    }
   ],
   "source": [
    "result['time'] = ['1min 5s', '2min 31s', '12min 54s', '16min 21s', '3min']\n",
    "result"
   ]
  },
  {
   "cell_type": "markdown",
   "id": "2ff3c430",
   "metadata": {},
   "source": [
    "## Выводы"
   ]
  },
  {
   "cell_type": "markdown",
   "id": "6b15e4b3",
   "metadata": {},
   "source": [
    "По совокупности данных победителем стали сети CNN. Явный выигрыш по времени обучения, простота архитектуры, и минимальный проигрыш по метрике.  \n",
    "\n",
    "Выигрыш CNN можно объяснить особенностью текста. \n",
    "Отзывы написаны разговорным языком, короткие односложные фразы, с минимальным контекстом (медианное значение количества слов в отзыве 4, среднее значение слов 8,2).\n",
    "Таким образом основные преимущества рекуррентных сетей связанные со способностью запоминать информацию о контексте в данных текстах оказались неиспользованные. А вот вычислительная сложность никуда не исчезла. \n",
    "\n",
    "И хотя разница результатов минимальна и находится на уровне статистической погрешности, но мы всё равно, видим увеличение метрики с ростом сложности алгоритма. Что согласуется с теоретическими ожиданиями. \n",
    "\n",
    "Так же следует отметить, что все модели использовали предобученные эмбеддинги. В силу особенности текстов (где слово несёт больше информации чем контекст) можно предположить, что именно качество эмбеддингов будет в большей степени влиять на итоговое значение метрики. \n"
   ]
  },
  {
   "cell_type": "code",
   "execution_count": null,
   "id": "b7b26963",
   "metadata": {},
   "outputs": [],
   "source": []
  }
 ],
 "metadata": {
  "kernelspec": {
   "display_name": "Python 3 (ipykernel)",
   "language": "python",
   "name": "python3"
  },
  "language_info": {
   "codemirror_mode": {
    "name": "ipython",
    "version": 3
   },
   "file_extension": ".py",
   "mimetype": "text/x-python",
   "name": "python",
   "nbconvert_exporter": "python",
   "pygments_lexer": "ipython3",
   "version": "3.9.7"
  }
 },
 "nbformat": 4,
 "nbformat_minor": 5
}
