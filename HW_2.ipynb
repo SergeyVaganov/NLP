{
 "cells": [
  {
   "cell_type": "markdown",
   "metadata": {},
   "source": [
    "### Задание 1.\n",
    "\n",
    "**Задание**: обучите три классификатора: \n",
    "\n",
    "1) на токенах с высокой частотой \n",
    "\n",
    "2) на токенах со средней частотой \n",
    "\n",
    "3) на токенах с низкой частотой\n",
    "\n",
    "\n",
    "Сравните полученные результаты, оцените какие токены наиболее важные для классификации.\n",
    "\n",
    "\n",
    "### Задание 2.\n",
    "\n",
    "найти фичи с наибольшей значимостью, и вывести их\n",
    "\n",
    "\n",
    "### Задание 3.\n",
    "\n",
    "1) сравнить count/tf-idf/hashing векторайзеры/полносвязанную сетку (построить classification_report)\n",
    "\n",
    "2) подобрать оптимальный размер для hashing векторайзера \n",
    "\n",
    "3) убедиться что для сетки нет переобучения"
   ]
  },
  {
   "cell_type": "code",
   "execution_count": 13,
   "metadata": {
    "executionInfo": {
     "elapsed": 8,
     "status": "ok",
     "timestamp": 1665923119743,
     "user": {
      "displayName": "Сергей Ваганов",
      "userId": "01949403015015467163"
     },
     "user_tz": -300
    },
    "id": "gk1JxZwnugTe"
   },
   "outputs": [],
   "source": [
    "import pandas as pd\n",
    "import numpy as np\n",
    "import os\n",
    "from multiprocessing import Pool\n",
    "from tqdm.notebook import tqdm\n",
    "from nltk.tokenize import word_tokenize\n",
    "from collections import Counter\n",
    "from sklearn.ensemble import RandomForestClassifier\n",
    "from sklearn.metrics import *\n",
    "from sklearn.model_selection import train_test_split\n",
    "from sklearn.feature_extraction.text import CountVectorizer, TfidfVectorizer, HashingVectorizer\n",
    "\n",
    "\n",
    "from my_tool import txt_preprocessing, classificator"
   ]
  },
  {
   "cell_type": "code",
   "execution_count": 4,
   "metadata": {
    "executionInfo": {
     "elapsed": 1475,
     "status": "ok",
     "timestamp": 1665923125020,
     "user": {
      "displayName": "Сергей Ваганов",
      "userId": "01949403015015467163"
     },
     "user_tz": -300
    },
    "id": "JgQiCCwsujK1"
   },
   "outputs": [],
   "source": [
    "positive = pd.read_csv('positive.csv', sep=';', usecols=[3], names=['text'])\n",
    "positive['label'] = 1\n",
    "negative = pd.read_csv('negative.csv', sep=';', usecols=[3], names=['text'])\n",
    "negative['label'] = 0\n",
    "df = positive.append(negative)"
   ]
  },
  {
   "cell_type": "code",
   "execution_count": 5,
   "metadata": {
    "colab": {
     "base_uri": "https://localhost:8080/",
     "height": 112
    },
    "executionInfo": {
     "elapsed": 305,
     "status": "ok",
     "timestamp": 1665923127361,
     "user": {
      "displayName": "Сергей Ваганов",
      "userId": "01949403015015467163"
     },
     "user_tz": -300
    },
    "id": "Z_kye3jVulzE",
    "outputId": "62101d6e-381a-4240-d990-2453a9ae1d4b"
   },
   "outputs": [
    {
     "data": {
      "text/html": [
       "<div>\n",
       "<style scoped>\n",
       "    .dataframe tbody tr th:only-of-type {\n",
       "        vertical-align: middle;\n",
       "    }\n",
       "\n",
       "    .dataframe tbody tr th {\n",
       "        vertical-align: top;\n",
       "    }\n",
       "\n",
       "    .dataframe thead th {\n",
       "        text-align: right;\n",
       "    }\n",
       "</style>\n",
       "<table border=\"1\" class=\"dataframe\">\n",
       "  <thead>\n",
       "    <tr style=\"text-align: right;\">\n",
       "      <th></th>\n",
       "      <th>text</th>\n",
       "      <th>label</th>\n",
       "    </tr>\n",
       "  </thead>\n",
       "  <tbody>\n",
       "    <tr>\n",
       "      <th>0</th>\n",
       "      <td>@first_timee хоть я и школота, но поверь, у на...</td>\n",
       "      <td>1</td>\n",
       "    </tr>\n",
       "    <tr>\n",
       "      <th>1</th>\n",
       "      <td>Да, все-таки он немного похож на него. Но мой ...</td>\n",
       "      <td>1</td>\n",
       "    </tr>\n",
       "  </tbody>\n",
       "</table>\n",
       "</div>"
      ],
      "text/plain": [
       "                                                text  label\n",
       "0  @first_timee хоть я и школота, но поверь, у на...      1\n",
       "1  Да, все-таки он немного похож на него. Но мой ...      1"
      ]
     },
     "execution_count": 5,
     "metadata": {},
     "output_type": "execute_result"
    }
   ],
   "source": [
    "df.head(2)"
   ]
  },
  {
   "cell_type": "markdown",
   "metadata": {},
   "source": [
    "### Задание 1"
   ]
  },
  {
   "cell_type": "code",
   "execution_count": 7,
   "metadata": {
    "colab": {
     "base_uri": "https://localhost:8080/",
     "height": 101,
     "referenced_widgets": [
      "3dc9f6c6b23f48d999665eb975ceb960",
      "25ca427463724347a9e9662f1eb8fa5f",
      "700e364b7b76479ca34162a7b667a7a7",
      "5d1ce0ef64c74513845ef90fe7aa9486",
      "9713e212bd6b432a9f4462ac9310e289",
      "dde669fa0efe48b5bafca4c3ac68975f",
      "bb12053415b54ebf9e9dd45d719e021f",
      "d1b2f3c6f46e4c2fba5ddedc2cf89b72",
      "7884eda9e76a4b1c8e47dd429e7dea0d",
      "da92716b98e04e88af420f578e8312e0",
      "88a3473457f14cf182f9a68485e2c2a9"
     ]
    },
    "id": "By0g10mZgSz4",
    "outputId": "1e5869c8-e007-435e-d480-7e7c1b94717f"
   },
   "outputs": [
    {
     "data": {
      "application/vnd.jupyter.widget-view+json": {
       "model_id": "ebf86445041f4450a765be0204f7fce3",
       "version_major": 2,
       "version_minor": 0
      },
      "text/plain": [
       "  0%|          | 0/226834 [00:00<?, ?it/s]"
      ]
     },
     "metadata": {},
     "output_type": "display_data"
    },
    {
     "name": "stdout",
     "output_type": "stream",
     "text": [
      "Wall time: 5min 34s\n"
     ]
    }
   ],
   "source": [
    "%%time\n",
    "N = len(df)\n",
    "with Pool(8) as p:\n",
    "    df['prep_txt'] = tqdm(p.imap(txt_preprocessing.ru_preprocessing, df['text']), total = N)"
   ]
  },
  {
   "cell_type": "code",
   "execution_count": 8,
   "metadata": {
    "id": "wvJnuENZgSz8",
    "outputId": "5285d3c5-ab10-406c-d69b-e28cdcc33244"
   },
   "outputs": [
    {
     "data": {
      "text/html": [
       "<div>\n",
       "<style scoped>\n",
       "    .dataframe tbody tr th:only-of-type {\n",
       "        vertical-align: middle;\n",
       "    }\n",
       "\n",
       "    .dataframe tbody tr th {\n",
       "        vertical-align: top;\n",
       "    }\n",
       "\n",
       "    .dataframe thead th {\n",
       "        text-align: right;\n",
       "    }\n",
       "</style>\n",
       "<table border=\"1\" class=\"dataframe\">\n",
       "  <thead>\n",
       "    <tr style=\"text-align: right;\">\n",
       "      <th></th>\n",
       "      <th>text</th>\n",
       "      <th>label</th>\n",
       "      <th>prep_txt</th>\n",
       "    </tr>\n",
       "  </thead>\n",
       "  <tbody>\n",
       "    <tr>\n",
       "      <th>0</th>\n",
       "      <td>@first_timee хоть я и школота, но поверь, у на...</td>\n",
       "      <td>1</td>\n",
       "      <td>школоть поверить самый общество профилировать ...</td>\n",
       "    </tr>\n",
       "    <tr>\n",
       "      <th>1</th>\n",
       "      <td>Да, все-таки он немного похож на него. Но мой ...</td>\n",
       "      <td>1</td>\n",
       "      <td>весь таки немного похожий мальчик равный</td>\n",
       "    </tr>\n",
       "  </tbody>\n",
       "</table>\n",
       "</div>"
      ],
      "text/plain": [
       "                                                text  label  \\\n",
       "0  @first_timee хоть я и школота, но поверь, у на...      1   \n",
       "1  Да, все-таки он немного похож на него. Но мой ...      1   \n",
       "\n",
       "                                            prep_txt  \n",
       "0  школоть поверить самый общество профилировать ...  \n",
       "1           весь таки немного похожий мальчик равный  "
      ]
     },
     "execution_count": 8,
     "metadata": {},
     "output_type": "execute_result"
    }
   ],
   "source": [
    "df.head(2)"
   ]
  },
  {
   "cell_type": "code",
   "execution_count": 9,
   "metadata": {
    "id": "5THbUGuRgSz-"
   },
   "outputs": [],
   "source": [
    "x_train, x_test, y_train, y_test = train_test_split(df.prep_txt, df.label, shuffle=True)"
   ]
  },
  {
   "cell_type": "code",
   "execution_count": 10,
   "metadata": {},
   "outputs": [],
   "source": [
    "corpus = [token for tweet in df.prep_txt for token in word_tokenize(tweet)]\n",
    "freq_dict = Counter(corpus)\n",
    "freq_dict_sorted= sorted(freq_dict.items(), key=lambda x: -x[1])"
   ]
  },
  {
   "cell_type": "code",
   "execution_count": 11,
   "metadata": {
    "id": "c5c6iEp8gSz_",
    "outputId": "8c9f3d94-488e-4309-8c7d-c3f9f06fd592"
   },
   "outputs": [
    {
     "name": "stdout",
     "output_type": "stream",
     "text": [
      "Общее число токенов в корпусе: 1450128\n",
      "Число токенов в корпусе с частотой выше 1000: 499939\n",
      "Число токенов в корпусе с частотой >100 <1000: 491955\n",
      "Число токенов в корпусе с частотой ниже 100: 458234\n"
     ]
    }
   ],
   "source": [
    "t = np.array([freq for word, freq in freq_dict_sorted])\n",
    "print(f'Общее число токенов в корпусе: {t.sum()}')\n",
    "max_ = np.array([freq for word, freq in freq_dict_sorted if freq > 1000])\n",
    "print(f'Число токенов в корпусе с частотой выше 1000: {max_.sum()}')\n",
    "middle_ = np.array([freq for word, freq in freq_dict_sorted if freq > 100 and freq <= 1000])\n",
    "print(f'Число токенов в корпусе с частотой >100 <1000: {middle_.sum()}')\n",
    "min_ = np.array([freq for word, freq in freq_dict_sorted if freq <= 100])\n",
    "print(f'Число токенов в корпусе с частотой ниже 100: {min_.sum()}')"
   ]
  },
  {
   "cell_type": "code",
   "execution_count": 12,
   "metadata": {
    "id": "M-PWVKAWgS0B",
    "outputId": "7b262254-c1cb-43df-a322-6cec26f8e06f"
   },
   "outputs": [
    {
     "name": "stdout",
     "output_type": "stream",
     "text": [
      "{'max': CountVectorizer(max_df=30000, min_df=1000,\n",
      "                tokenizer=<function word_tokenize at 0x0000019F868A6940>), 'middle': CountVectorizer(max_df=1001, min_df=100,\n",
      "                tokenizer=<function word_tokenize at 0x0000019F868A6940>), 'min': CountVectorizer(max_df=101,\n",
      "                tokenizer=<function word_tokenize at 0x0000019F868A6940>), 'total': CountVectorizer(max_df=30000,\n",
      "                tokenizer=<function word_tokenize at 0x0000019F868A6940>)}\n"
     ]
    }
   ],
   "source": [
    "vec_list = {'max':[30000, 1000], 'middle':[1001, 100], 'min':[101, 1], 'total':[30000, 1]}\n",
    "vec = {}\n",
    "for key, range_ in vec_list.items():\n",
    "    vec[key] = CountVectorizer(ngram_range=(1, 1), tokenizer=word_tokenize, max_df=range_[0], \n",
    "                               min_df=range_[1])\n",
    "print(vec)"
   ]
  },
  {
   "cell_type": "code",
   "execution_count": 40,
   "metadata": {
    "colab": {
     "base_uri": "https://localhost:8080/",
     "height": 188,
     "referenced_widgets": [
      "d819485dd6ab4b3484c9917ee3687c20",
      "73fd07c0315e4872b8f736c4daa4b799",
      "bc2228e2d72847f4afed541560575ab0",
      "93c7bb2dfbb14665a39b01a19108951b",
      "5b9c6447279c4e288c3c8c5c8a825dea",
      "485b142bc5434f80b290cc922c418706",
      "f333e8860af44c15baf098fee1093a27",
      "b80f513fdabd40fba07d5d0e5975f763",
      "4d3611ace6734d08899cb39b8cba033b",
      "83e65cb9eb2a409cb5d2faae3257cc9d",
      "19a3145f442a4ccb88291cb1cc4d0ce8"
     ]
    },
    "executionInfo": {
     "elapsed": 19,
     "status": "ok",
     "timestamp": 1665922853161,
     "user": {
      "displayName": "Сергей Ваганов",
      "userId": "01949403015015467163"
     },
     "user_tz": -300
    },
    "id": "7Io-f8livS1y",
    "outputId": "fbb9af4f-32aa-4d17-85e2-f5d989095722"
   },
   "outputs": [
    {
     "name": "stdout",
     "output_type": "stream",
     "text": [
      "max is ready!\n",
      "middle is ready!\n",
      "total is ready!\n",
      "min is ready!\n"
     ]
    }
   ],
   "source": [
    "pool = Pool(processes=4)\n",
    "res = []\n",
    "for key, vectorizer in vec.items(): \n",
    "    r = pool.apply_async(classificator.RFCls, \n",
    "                         (key, vectorizer, x_train, y_train, x_test, y_test))\n",
    "    res.append((key,r))\n",
    "pool.close()\n",
    "already = []\n",
    "result = []\n",
    "while len(already) < 4:\n",
    "    for key, r in res:\n",
    "        if r.ready() and key not in already:\n",
    "            already.append(key)\n",
    "            result.append(r.get())\n",
    "            print(key, 'is ready!')\n",
    "pool.join()"
   ]
  },
  {
   "cell_type": "code",
   "execution_count": 43,
   "metadata": {},
   "outputs": [
    {
     "data": {
      "text/html": [
       "<div>\n",
       "<style scoped>\n",
       "    .dataframe tbody tr th:only-of-type {\n",
       "        vertical-align: middle;\n",
       "    }\n",
       "\n",
       "    .dataframe tbody tr th {\n",
       "        vertical-align: top;\n",
       "    }\n",
       "\n",
       "    .dataframe thead th {\n",
       "        text-align: right;\n",
       "    }\n",
       "</style>\n",
       "<table border=\"1\" class=\"dataframe\">\n",
       "  <thead>\n",
       "    <tr style=\"text-align: right;\">\n",
       "      <th></th>\n",
       "      <th>Вариант</th>\n",
       "      <th>precision</th>\n",
       "      <th>recall</th>\n",
       "      <th>f1_score</th>\n",
       "    </tr>\n",
       "  </thead>\n",
       "  <tbody>\n",
       "    <tr>\n",
       "      <th>0</th>\n",
       "      <td>max</td>\n",
       "      <td>0.793357</td>\n",
       "      <td>0.628191</td>\n",
       "      <td>0.701179</td>\n",
       "    </tr>\n",
       "    <tr>\n",
       "      <th>1</th>\n",
       "      <td>middle</td>\n",
       "      <td>0.713209</td>\n",
       "      <td>0.640431</td>\n",
       "      <td>0.674863</td>\n",
       "    </tr>\n",
       "    <tr>\n",
       "      <th>2</th>\n",
       "      <td>total</td>\n",
       "      <td>0.677529</td>\n",
       "      <td>0.776879</td>\n",
       "      <td>0.723811</td>\n",
       "    </tr>\n",
       "    <tr>\n",
       "      <th>3</th>\n",
       "      <td>min</td>\n",
       "      <td>0.533838</td>\n",
       "      <td>0.666435</td>\n",
       "      <td>0.592813</td>\n",
       "    </tr>\n",
       "  </tbody>\n",
       "</table>\n",
       "</div>"
      ],
      "text/plain": [
       "  Вариант  precision    recall  f1_score\n",
       "0     max   0.793357  0.628191  0.701179\n",
       "1  middle   0.713209  0.640431  0.674863\n",
       "2   total   0.677529  0.776879  0.723811\n",
       "3     min   0.533838  0.666435  0.592813"
      ]
     },
     "execution_count": 43,
     "metadata": {},
     "output_type": "execute_result"
    }
   ],
   "source": [
    "col = ['Вариант', 'precision', 'recall', 'f1_score']\n",
    "result_df = pd.DataFrame(result, columns=col)\n",
    "result_df"
   ]
  },
  {
   "cell_type": "markdown",
   "metadata": {},
   "source": [
    "#### Выводы по заданию\n",
    "\n",
    "Общее число токенов в корпусе составило 1450128, для проведения расчётов я поделил их на 3 равные части. \n",
    "\n",
    "\n",
    "Получилось, что примерно 1/3 всего корпуса токенов приходится на токены с частотами выше 1000 (499939шт.) Еще 1/3 лежит в диапазоне частот от 1000 до 100 (491955шт.). Остальные с частотами ниже 100.\n",
    "\n",
    "Результаты показали, что лучшие показатели были у модели, обученной на высокочастотных токенах. Модель на низкочастотных токенах показала худший результат. \n",
    "А как будет видно в задания 2, то низкочастотные токены в какой-то мере ухудшили работу модели, обученную на всём корпусе. Модель \"max+middle\" модель обученная без низкочастотных токенов, показала лучший результат чем \"total\" - модель обученная на всем корпусе\n",
    "\n",
    "Для организации параллельного обучения моделей пришлось функцию вынести в отдельный модуль classificator. Если функция располагалась в данном ноутбуке, распараллелить не удалось. (Объяснить причину не смог) "
   ]
  },
  {
   "cell_type": "markdown",
   "metadata": {},
   "source": [
    "### Задание 2"
   ]
  },
  {
   "cell_type": "code",
   "execution_count": 46,
   "metadata": {},
   "outputs": [],
   "source": [
    "vect = CountVectorizer(ngram_range=(1, 1), tokenizer=word_tokenize, max_df=30000, \n",
    "                               min_df=100)"
   ]
  },
  {
   "cell_type": "code",
   "execution_count": 47,
   "metadata": {},
   "outputs": [],
   "source": [
    "key, precision_, recall_, f1_score_, rfc = classificator.RFCls_model('max+middle', vect, \n",
    "                                                x_train, y_train, x_test, y_test)"
   ]
  },
  {
   "cell_type": "code",
   "execution_count": 62,
   "metadata": {},
   "outputs": [],
   "source": [
    "score = pd.DataFrame([{'Вариант':key, 'precision':precision_, \n",
    "                      'recall':recall_,'f1_score':f1_score_}])"
   ]
  },
  {
   "cell_type": "code",
   "execution_count": 64,
   "metadata": {},
   "outputs": [
    {
     "data": {
      "text/html": [
       "<div>\n",
       "<style scoped>\n",
       "    .dataframe tbody tr th:only-of-type {\n",
       "        vertical-align: middle;\n",
       "    }\n",
       "\n",
       "    .dataframe tbody tr th {\n",
       "        vertical-align: top;\n",
       "    }\n",
       "\n",
       "    .dataframe thead th {\n",
       "        text-align: right;\n",
       "    }\n",
       "</style>\n",
       "<table border=\"1\" class=\"dataframe\">\n",
       "  <thead>\n",
       "    <tr style=\"text-align: right;\">\n",
       "      <th></th>\n",
       "      <th>Вариант</th>\n",
       "      <th>precision</th>\n",
       "      <th>recall</th>\n",
       "      <th>f1_score</th>\n",
       "    </tr>\n",
       "  </thead>\n",
       "  <tbody>\n",
       "    <tr>\n",
       "      <th>0</th>\n",
       "      <td>max</td>\n",
       "      <td>0.793357</td>\n",
       "      <td>0.628191</td>\n",
       "      <td>0.701179</td>\n",
       "    </tr>\n",
       "    <tr>\n",
       "      <th>1</th>\n",
       "      <td>middle</td>\n",
       "      <td>0.713209</td>\n",
       "      <td>0.640431</td>\n",
       "      <td>0.674863</td>\n",
       "    </tr>\n",
       "    <tr>\n",
       "      <th>2</th>\n",
       "      <td>total</td>\n",
       "      <td>0.677529</td>\n",
       "      <td>0.776879</td>\n",
       "      <td>0.723811</td>\n",
       "    </tr>\n",
       "    <tr>\n",
       "      <th>3</th>\n",
       "      <td>min</td>\n",
       "      <td>0.533838</td>\n",
       "      <td>0.666435</td>\n",
       "      <td>0.592813</td>\n",
       "    </tr>\n",
       "    <tr>\n",
       "      <th>0</th>\n",
       "      <td>max+middle</td>\n",
       "      <td>0.736937</td>\n",
       "      <td>0.718832</td>\n",
       "      <td>0.727772</td>\n",
       "    </tr>\n",
       "  </tbody>\n",
       "</table>\n",
       "</div>"
      ],
      "text/plain": [
       "      Вариант  precision    recall  f1_score\n",
       "0         max   0.793357  0.628191  0.701179\n",
       "1      middle   0.713209  0.640431  0.674863\n",
       "2       total   0.677529  0.776879  0.723811\n",
       "3         min   0.533838  0.666435  0.592813\n",
       "0  max+middle   0.736937  0.718832  0.727772"
      ]
     },
     "execution_count": 64,
     "metadata": {},
     "output_type": "execute_result"
    }
   ],
   "source": [
    "result_df.append(score)"
   ]
  },
  {
   "cell_type": "code",
   "execution_count": 104,
   "metadata": {},
   "outputs": [
    {
     "data": {
      "text/plain": [
       "[0.10076841025162003,\n",
       " 0.050276145990286195,\n",
       " 0.010411144047479172,\n",
       " 0.007436223162000596,\n",
       " 0.006964873608564388,\n",
       " 0.006319206111295495,\n",
       " 0.005330647185699282,\n",
       " 0.004490118993092208,\n",
       " 0.004393730904472918,\n",
       " 0.00409859834959355]"
      ]
     },
     "execution_count": 104,
     "metadata": {},
     "output_type": "execute_result"
    }
   ],
   "source": [
    "sorted(rfc.feature_importances_, reverse=True)[:10]"
   ]
  },
  {
   "cell_type": "code",
   "execution_count": 111,
   "metadata": {},
   "outputs": [
    {
     "data": {
      "text/plain": [
       "array([ 230, 1298,  100, 1451, 1244,   51,   25,  416,   58,  325],\n",
       "      dtype=int64)"
      ]
     },
     "execution_count": 111,
     "metadata": {},
     "output_type": "execute_result"
    }
   ],
   "source": [
    "index_sort = np.argsort(rfc.feature_importances_)[::-1]\n",
    "index_sort[:10]"
   ]
  },
  {
   "cell_type": "code",
   "execution_count": null,
   "metadata": {},
   "outputs": [],
   "source": [
    "feature = vect.get_feature_names()"
   ]
  },
  {
   "cell_type": "code",
   "execution_count": 112,
   "metadata": {},
   "outputs": [
    {
     "name": "stdout",
     "output_type": "stream",
     "text": [
      "грустный\n",
      "счастливый\n",
      "весь\n",
      "хотеть\n",
      "спасибо\n",
      "блин\n",
      "ахах\n",
      "знать\n",
      "болеть\n",
      "жаль\n"
     ]
    }
   ],
   "source": [
    "for index in index_sort[:10]:\n",
    "    print(feature[index])"
   ]
  },
  {
   "cell_type": "markdown",
   "metadata": {},
   "source": [
    "#### Выводы по заданию\n",
    "\n",
    "грустный, счастливый\n",
    "\n",
    "\n",
    "это токены вставленные при замене смайлов. Можно сделать вывод что подобные конструкции несут большую информационную нагрузку. \n",
    "Необходимо при работе с текстом  уделять им больше внимания."
   ]
  },
  {
   "cell_type": "markdown",
   "metadata": {},
   "source": [
    "### Задание 3"
   ]
  },
  {
   "cell_type": "code",
   "execution_count": 14,
   "metadata": {
    "id": "aa1oeMnDgS0T"
   },
   "outputs": [],
   "source": [
    "vect_CV = CountVectorizer(ngram_range=(1, 1), tokenizer=word_tokenize, max_df=30000, \n",
    "                               min_df=100)"
   ]
  },
  {
   "cell_type": "code",
   "execution_count": 27,
   "metadata": {},
   "outputs": [
    {
     "name": "stdout",
     "output_type": "stream",
     "text": [
      "1525\n"
     ]
    }
   ],
   "source": [
    "vect_CV.fit_transform(x_train)\n",
    "print(len(vect_CV.get_feature_names()))"
   ]
  },
  {
   "cell_type": "code",
   "execution_count": 15,
   "metadata": {
    "id": "7uvcJFY9gS0T"
   },
   "outputs": [],
   "source": [
    "vect_TF = TfidfVectorizer(ngram_range=(1, 1), tokenizer=word_tokenize, max_df=30000, \n",
    "                               min_df=100)"
   ]
  },
  {
   "cell_type": "code",
   "execution_count": 26,
   "metadata": {
    "id": "Ko6o59HFgS0Y"
   },
   "outputs": [],
   "source": [
    "vect_HS_max = HashingVectorizer(ngram_range=(1, 1), n_features=1525, tokenizer=word_tokenize)"
   ]
  },
  {
   "cell_type": "code",
   "execution_count": 29,
   "metadata": {},
   "outputs": [],
   "source": [
    "vect_HS_min = HashingVectorizer(ngram_range=(1, 1), n_features=500, tokenizer=word_tokenize)"
   ]
  },
  {
   "cell_type": "code",
   "execution_count": 30,
   "metadata": {},
   "outputs": [],
   "source": [
    "vect_HS_middle = HashingVectorizer(ngram_range=(1, 1), n_features=1000, tokenizer=word_tokenize)"
   ]
  },
  {
   "cell_type": "code",
   "execution_count": 34,
   "metadata": {},
   "outputs": [],
   "source": [
    "list_vec = {'CountVectorizer': vect_CV, 'TfidfVectorizer': vect_TF, \n",
    "            'HashingVectorizer_max': vect_HS_max, \n",
    "            'HashingVectorizer_middle': vect_HS_middle, \n",
    "            'HashingVectorizer_min': vect_HS_min}"
   ]
  },
  {
   "cell_type": "code",
   "execution_count": 37,
   "metadata": {},
   "outputs": [
    {
     "name": "stdout",
     "output_type": "stream",
     "text": [
      "CountVectorizer is ready!\n",
      "TfidfVectorizer is ready!\n",
      "HashingVectorizer_max is ready!\n",
      "HashingVectorizer_middle is ready!\n",
      "HashingVectorizer_min is ready!\n"
     ]
    }
   ],
   "source": [
    "pool = Pool(processes=5)\n",
    "res = []\n",
    "for key, vectorizer in list_vec.items(): \n",
    "    r = pool.apply_async(classificator.RFCls_model, \n",
    "                         (key, vectorizer, x_train, y_train, x_test, y_test))\n",
    "    res.append((key,r))\n",
    "pool.close()\n",
    "already = []\n",
    "result = []\n",
    "while len(already) < 5:\n",
    "    for key, r in res:\n",
    "        if r.ready() and key not in already:\n",
    "            already.append(key)\n",
    "            result.append(r.get())\n",
    "            print(key, 'is ready!')\n",
    "pool.join()"
   ]
  },
  {
   "cell_type": "code",
   "execution_count": 39,
   "metadata": {},
   "outputs": [
    {
     "data": {
      "text/html": [
       "<div>\n",
       "<style scoped>\n",
       "    .dataframe tbody tr th:only-of-type {\n",
       "        vertical-align: middle;\n",
       "    }\n",
       "\n",
       "    .dataframe tbody tr th {\n",
       "        vertical-align: top;\n",
       "    }\n",
       "\n",
       "    .dataframe thead th {\n",
       "        text-align: right;\n",
       "    }\n",
       "</style>\n",
       "<table border=\"1\" class=\"dataframe\">\n",
       "  <thead>\n",
       "    <tr style=\"text-align: right;\">\n",
       "      <th></th>\n",
       "      <th>Вариант</th>\n",
       "      <th>precision</th>\n",
       "      <th>recall</th>\n",
       "      <th>f1_score</th>\n",
       "      <th>модель</th>\n",
       "    </tr>\n",
       "  </thead>\n",
       "  <tbody>\n",
       "    <tr>\n",
       "      <th>0</th>\n",
       "      <td>CountVectorizer</td>\n",
       "      <td>0.742462</td>\n",
       "      <td>0.720003</td>\n",
       "      <td>0.731060</td>\n",
       "      <td>(DecisionTreeClassifier(max_features='auto', r...</td>\n",
       "    </tr>\n",
       "    <tr>\n",
       "      <th>1</th>\n",
       "      <td>TfidfVectorizer</td>\n",
       "      <td>0.770529</td>\n",
       "      <td>0.724216</td>\n",
       "      <td>0.746655</td>\n",
       "      <td>(DecisionTreeClassifier(max_features='auto', r...</td>\n",
       "    </tr>\n",
       "    <tr>\n",
       "      <th>2</th>\n",
       "      <td>HashingVectorizer_max</td>\n",
       "      <td>0.737078</td>\n",
       "      <td>0.731513</td>\n",
       "      <td>0.734285</td>\n",
       "      <td>(DecisionTreeClassifier(max_features='auto', r...</td>\n",
       "    </tr>\n",
       "    <tr>\n",
       "      <th>3</th>\n",
       "      <td>HashingVectorizer_middle</td>\n",
       "      <td>0.732597</td>\n",
       "      <td>0.723375</td>\n",
       "      <td>0.727957</td>\n",
       "      <td>(DecisionTreeClassifier(max_features='auto', r...</td>\n",
       "    </tr>\n",
       "    <tr>\n",
       "      <th>4</th>\n",
       "      <td>HashingVectorizer_min</td>\n",
       "      <td>0.730791</td>\n",
       "      <td>0.700636</td>\n",
       "      <td>0.715396</td>\n",
       "      <td>(DecisionTreeClassifier(max_features='auto', r...</td>\n",
       "    </tr>\n",
       "  </tbody>\n",
       "</table>\n",
       "</div>"
      ],
      "text/plain": [
       "                    Вариант  precision    recall  f1_score  \\\n",
       "0           CountVectorizer   0.742462  0.720003  0.731060   \n",
       "1           TfidfVectorizer   0.770529  0.724216  0.746655   \n",
       "2     HashingVectorizer_max   0.737078  0.731513  0.734285   \n",
       "3  HashingVectorizer_middle   0.732597  0.723375  0.727957   \n",
       "4     HashingVectorizer_min   0.730791  0.700636  0.715396   \n",
       "\n",
       "                                              модель  \n",
       "0  (DecisionTreeClassifier(max_features='auto', r...  \n",
       "1  (DecisionTreeClassifier(max_features='auto', r...  \n",
       "2  (DecisionTreeClassifier(max_features='auto', r...  \n",
       "3  (DecisionTreeClassifier(max_features='auto', r...  \n",
       "4  (DecisionTreeClassifier(max_features='auto', r...  "
      ]
     },
     "execution_count": 39,
     "metadata": {},
     "output_type": "execute_result"
    }
   ],
   "source": [
    "col = ['Вариант', 'precision', 'recall', 'f1_score', 'модель']\n",
    "result_df = pd.DataFrame(result, columns=col)\n",
    "result_df"
   ]
  },
  {
   "cell_type": "code",
   "execution_count": 49,
   "metadata": {},
   "outputs": [
    {
     "name": "stderr",
     "output_type": "stream",
     "text": [
      "C:\\anaconda3\\lib\\site-packages\\sklearn\\feature_extraction\\text.py:489: UserWarning: The parameter 'token_pattern' will not be used since 'tokenizer' is not None'\n",
      "  warnings.warn(\"The parameter 'token_pattern' will not be used\"\n"
     ]
    },
    {
     "name": "stdout",
     "output_type": "stream",
     "text": [
      "classification_report для CountVectorizer:\n",
      "\n",
      "              precision    recall  f1-score   support\n",
      "\n",
      "           0       0.70      0.73      0.71     27023\n",
      "           1       0.74      0.72      0.73     29686\n",
      "\n",
      "    accuracy                           0.72     56709\n",
      "   macro avg       0.72      0.72      0.72     56709\n",
      "weighted avg       0.72      0.72      0.72     56709\n",
      "\n",
      "\n",
      "\n",
      "classification_report для TfidfVectorizer:\n",
      "\n",
      "              precision    recall  f1-score   support\n",
      "\n",
      "           0       0.70      0.75      0.72     26080\n",
      "           1       0.77      0.72      0.75     30629\n",
      "\n",
      "    accuracy                           0.73     56709\n",
      "   macro avg       0.73      0.74      0.73     56709\n",
      "weighted avg       0.74      0.73      0.73     56709\n",
      "\n",
      "\n",
      "\n",
      "classification_report для HashingVectorizer_max:\n",
      "\n",
      "              precision    recall  f1-score   support\n",
      "\n",
      "           0       0.72      0.73      0.72     27702\n",
      "           1       0.74      0.73      0.73     29007\n",
      "\n",
      "    accuracy                           0.73     56709\n",
      "   macro avg       0.73      0.73      0.73     56709\n",
      "weighted avg       0.73      0.73      0.73     56709\n",
      "\n",
      "\n",
      "\n",
      "classification_report для HashingVectorizer_middle:\n",
      "\n",
      "              precision    recall  f1-score   support\n",
      "\n",
      "           0       0.71      0.72      0.72     27554\n",
      "           1       0.73      0.72      0.73     29155\n",
      "\n",
      "    accuracy                           0.72     56709\n",
      "   macro avg       0.72      0.72      0.72     56709\n",
      "weighted avg       0.72      0.72      0.72     56709\n",
      "\n",
      "\n",
      "\n",
      "classification_report для HashingVectorizer_min:\n",
      "\n",
      "              precision    recall  f1-score   support\n",
      "\n",
      "           0       0.68      0.71      0.69     26682\n",
      "           1       0.73      0.70      0.72     30027\n",
      "\n",
      "    accuracy                           0.70     56709\n",
      "   macro avg       0.70      0.71      0.70     56709\n",
      "weighted avg       0.71      0.70      0.71     56709\n",
      "\n",
      "\n",
      "\n"
     ]
    }
   ],
   "source": [
    "pred = {}\n",
    "i = 0\n",
    "for key, vectorizer in list_vec.items(): \n",
    "    vectorizer.fit_transform(x_train)\n",
    "    pred[key] = result_df.iloc[i]['модель'].predict(vectorizer.transform(x_test))\n",
    "    i +=1\n",
    "    \n",
    "for key, predict in pred.items(): \n",
    "    print(f'classification_report для {key}:\\n')\n",
    "    print(classification_report(predict, y_test))\n",
    "    print()\n",
    "    print()"
   ]
  },
  {
   "cell_type": "code",
   "execution_count": null,
   "metadata": {},
   "outputs": [],
   "source": []
  },
  {
   "cell_type": "code",
   "execution_count": 638,
   "metadata": {},
   "outputs": [],
   "source": [
    "import tensorflow as tf\n",
    "\n",
    "from tensorflow.keras import Sequential\n",
    "from tensorflow.keras.layers import Dense, Embedding, GlobalAveragePooling1D\n",
    "from tensorflow.keras.layers import Conv1D, GRU, Dropout, Concatenate, BatchNormalization\n",
    "from tensorflow.keras.layers.experimental.preprocessing import TextVectorization"
   ]
  },
  {
   "cell_type": "code",
   "execution_count": 639,
   "metadata": {},
   "outputs": [],
   "source": [
    "train_data = tf.data.Dataset.from_tensor_slices((x_train, y_train))\n",
    "valid_data = tf.data.Dataset.from_tensor_slices((x_test, y_test))"
   ]
  },
  {
   "cell_type": "code",
   "execution_count": 640,
   "metadata": {},
   "outputs": [],
   "source": [
    "train_data = train_data.batch(64)\n",
    "valid_data = valid_data.batch(64)"
   ]
  },
  {
   "cell_type": "code",
   "execution_count": 641,
   "metadata": {},
   "outputs": [],
   "source": [
    "AUTOTUNE = tf.data.AUTOTUNE\n",
    "train_data = train_data.cache().prefetch(buffer_size=AUTOTUNE)\n",
    "valid_data = valid_data.cache().prefetch(buffer_size=AUTOTUNE)"
   ]
  },
  {
   "cell_type": "code",
   "execution_count": 642,
   "metadata": {},
   "outputs": [],
   "source": [
    "class myNet(tf.keras.Model):\n",
    "    def __init__(self, embedding_dim = 200, vocab_size = 10000, seq_len = 50):\n",
    "        super(myNet, self).__init__()\n",
    "        self.vectorize_layer = TextVectorization(max_tokens=vocab_size, output_mode='int',\n",
    "                              output_sequence_length=seq_len)\n",
    "        text_data = train_data.map(lambda x, y: x)\n",
    "        self.vectorize_layer.adapt(text_data)        \n",
    "        \n",
    "        self.emb = Embedding(vocab_size, embedding_dim, name=\"embedding\")\n",
    "        self.bn1 = BatchNormalization()\n",
    "        self.gru1 = GRU(embedding_dim, return_sequences=True, return_state=True, dropout=0.15)\n",
    "        self.gru2 = GRU(embedding_dim, dropout=0.15)\n",
    "        self.bn2 = BatchNormalization()        \n",
    "        self.fc0 = Dense(embedding_dim*4, activation='relu')\n",
    "        self.dp = Dropout(0.15)\n",
    "        self.fc1 = Dense(embedding_dim, activation='relu')\n",
    "        self.fc2 = Dense(1)\n",
    "\n",
    "\n",
    "    def call(self, x):\n",
    "        x = vectorize_layer(x)\n",
    "        x = self.emb(x)\n",
    "        x = self.bn1(x) \n",
    "        x, _ = self.gru1(x) \n",
    "        x = self.gru2(x)\n",
    "        x = self.fc0(x)\n",
    "        x = self.bn2(x)         \n",
    "        x = self.dp(x)         \n",
    "        x = self.fc1(x)\n",
    "        x = self.fc2(x)\n",
    "        return x"
   ]
  },
  {
   "cell_type": "code",
   "execution_count": 643,
   "metadata": {},
   "outputs": [],
   "source": [
    "mmodel = myNet(embedding_dim = 200)"
   ]
  },
  {
   "cell_type": "code",
   "execution_count": 644,
   "metadata": {},
   "outputs": [],
   "source": [
    "opt = tf.keras.optimizers.Adam(learning_rate=0.01)\n",
    "mmodel.compile(optimizer=opt,\n",
    "              loss=tf.keras.losses.BinaryCrossentropy(from_logits=True),\n",
    "              metrics=['accuracy'])"
   ]
  },
  {
   "cell_type": "code",
   "execution_count": 645,
   "metadata": {},
   "outputs": [
    {
     "name": "stdout",
     "output_type": "stream",
     "text": [
      "Epoch 1/5\n",
      "2659/2659 [==============================] - 976s 365ms/step - loss: 0.5631 - accuracy: 0.6450 - val_loss: 0.6155 - val_accuracy: 0.6737\n",
      "Epoch 2/5\n",
      "2659/2659 [==============================] - 996s 375ms/step - loss: 0.5221 - accuracy: 0.6922 - val_loss: 0.5410 - val_accuracy: 0.6621\n",
      "Epoch 3/5\n",
      "2659/2659 [==============================] - 979s 368ms/step - loss: 0.5122 - accuracy: 0.7070 - val_loss: 0.5218 - val_accuracy: 0.7207\n",
      "Epoch 4/5\n",
      "2659/2659 [==============================] - 981s 369ms/step - loss: 0.5095 - accuracy: 0.7033 - val_loss: 0.5159 - val_accuracy: 0.6796\n",
      "Epoch 5/5\n",
      "2659/2659 [==============================] - 980s 369ms/step - loss: 0.5071 - accuracy: 0.7118 - val_loss: 0.5183 - val_accuracy: 0.6754\n"
     ]
    },
    {
     "data": {
      "text/plain": [
       "<keras.callbacks.History at 0x19fe53cbf70>"
      ]
     },
     "execution_count": 645,
     "metadata": {},
     "output_type": "execute_result"
    }
   ],
   "source": [
    "mmodel.fit(train_data, validation_data=valid_data, epochs=5)"
   ]
  },
  {
   "cell_type": "markdown",
   "metadata": {},
   "source": [
    "#### Выводы по заданию\n",
    "\n",
    "На данном корпусе лучший результат оказался у TfidfVectorizer, что вполне ожидаемо.\n",
    "\n",
    "Для нахождения оптимального размера для hashing векторайзера не хватает вводных данных. Не известно по какому параметру оптимизировать по метрикам или скорости исполнения. Чем быстрее работает модель, тем меньше размер, но при этом падают метрики. \n",
    "\n",
    "В расчётах HashingVectorizer в случае максимум я взял размер равный длине словаря в  CountVectorizer (vect_CV.get_feature_names) при таком объёме метрики совпали. \n",
    "\n",
    "Нейронная сеть показала худший результат в данном случае. Как показывает практика, нейронная сеть не всегда является лучшим решением задачи.  \n"
   ]
  },
  {
   "cell_type": "code",
   "execution_count": null,
   "metadata": {},
   "outputs": [],
   "source": []
  }
 ],
 "metadata": {
  "colab": {
   "provenance": []
  },
  "kernelspec": {
   "display_name": "Python 3 (ipykernel)",
   "language": "python",
   "name": "python3"
  },
  "language_info": {
   "codemirror_mode": {
    "name": "ipython",
    "version": 3
   },
   "file_extension": ".py",
   "mimetype": "text/x-python",
   "name": "python",
   "nbconvert_exporter": "python",
   "pygments_lexer": "ipython3",
   "version": "3.9.7"
  },
  "widgets": {
   "application/vnd.jupyter.widget-state+json": {
    "19a3145f442a4ccb88291cb1cc4d0ce8": {
     "model_module": "@jupyter-widgets/controls",
     "model_module_version": "1.5.0",
     "model_name": "DescriptionStyleModel",
     "state": {
      "_model_module": "@jupyter-widgets/controls",
      "_model_module_version": "1.5.0",
      "_model_name": "DescriptionStyleModel",
      "_view_count": null,
      "_view_module": "@jupyter-widgets/base",
      "_view_module_version": "1.2.0",
      "_view_name": "StyleView",
      "description_width": ""
     }
    },
    "25ca427463724347a9e9662f1eb8fa5f": {
     "model_module": "@jupyter-widgets/controls",
     "model_module_version": "1.5.0",
     "model_name": "HTMLModel",
     "state": {
      "_dom_classes": [],
      "_model_module": "@jupyter-widgets/controls",
      "_model_module_version": "1.5.0",
      "_model_name": "HTMLModel",
      "_view_count": null,
      "_view_module": "@jupyter-widgets/controls",
      "_view_module_version": "1.5.0",
      "_view_name": "HTMLView",
      "description": "",
      "description_tooltip": null,
      "layout": "IPY_MODEL_dde669fa0efe48b5bafca4c3ac68975f",
      "placeholder": "​",
      "style": "IPY_MODEL_bb12053415b54ebf9e9dd45d719e021f",
      "value": "  1%"
     }
    },
    "3dc9f6c6b23f48d999665eb975ceb960": {
     "model_module": "@jupyter-widgets/controls",
     "model_module_version": "1.5.0",
     "model_name": "HBoxModel",
     "state": {
      "_dom_classes": [],
      "_model_module": "@jupyter-widgets/controls",
      "_model_module_version": "1.5.0",
      "_model_name": "HBoxModel",
      "_view_count": null,
      "_view_module": "@jupyter-widgets/controls",
      "_view_module_version": "1.5.0",
      "_view_name": "HBoxView",
      "box_style": "",
      "children": [
       "IPY_MODEL_25ca427463724347a9e9662f1eb8fa5f",
       "IPY_MODEL_700e364b7b76479ca34162a7b667a7a7",
       "IPY_MODEL_5d1ce0ef64c74513845ef90fe7aa9486"
      ],
      "layout": "IPY_MODEL_9713e212bd6b432a9f4462ac9310e289"
     }
    },
    "485b142bc5434f80b290cc922c418706": {
     "model_module": "@jupyter-widgets/base",
     "model_module_version": "1.2.0",
     "model_name": "LayoutModel",
     "state": {
      "_model_module": "@jupyter-widgets/base",
      "_model_module_version": "1.2.0",
      "_model_name": "LayoutModel",
      "_view_count": null,
      "_view_module": "@jupyter-widgets/base",
      "_view_module_version": "1.2.0",
      "_view_name": "LayoutView",
      "align_content": null,
      "align_items": null,
      "align_self": null,
      "border": null,
      "bottom": null,
      "display": null,
      "flex": null,
      "flex_flow": null,
      "grid_area": null,
      "grid_auto_columns": null,
      "grid_auto_flow": null,
      "grid_auto_rows": null,
      "grid_column": null,
      "grid_gap": null,
      "grid_row": null,
      "grid_template_areas": null,
      "grid_template_columns": null,
      "grid_template_rows": null,
      "height": null,
      "justify_content": null,
      "justify_items": null,
      "left": null,
      "margin": null,
      "max_height": null,
      "max_width": null,
      "min_height": null,
      "min_width": null,
      "object_fit": null,
      "object_position": null,
      "order": null,
      "overflow": null,
      "overflow_x": null,
      "overflow_y": null,
      "padding": null,
      "right": null,
      "top": null,
      "visibility": null,
      "width": null
     }
    },
    "4d3611ace6734d08899cb39b8cba033b": {
     "model_module": "@jupyter-widgets/controls",
     "model_module_version": "1.5.0",
     "model_name": "ProgressStyleModel",
     "state": {
      "_model_module": "@jupyter-widgets/controls",
      "_model_module_version": "1.5.0",
      "_model_name": "ProgressStyleModel",
      "_view_count": null,
      "_view_module": "@jupyter-widgets/base",
      "_view_module_version": "1.2.0",
      "_view_name": "StyleView",
      "bar_color": null,
      "description_width": ""
     }
    },
    "5b9c6447279c4e288c3c8c5c8a825dea": {
     "model_module": "@jupyter-widgets/base",
     "model_module_version": "1.2.0",
     "model_name": "LayoutModel",
     "state": {
      "_model_module": "@jupyter-widgets/base",
      "_model_module_version": "1.2.0",
      "_model_name": "LayoutModel",
      "_view_count": null,
      "_view_module": "@jupyter-widgets/base",
      "_view_module_version": "1.2.0",
      "_view_name": "LayoutView",
      "align_content": null,
      "align_items": null,
      "align_self": null,
      "border": null,
      "bottom": null,
      "display": null,
      "flex": null,
      "flex_flow": null,
      "grid_area": null,
      "grid_auto_columns": null,
      "grid_auto_flow": null,
      "grid_auto_rows": null,
      "grid_column": null,
      "grid_gap": null,
      "grid_row": null,
      "grid_template_areas": null,
      "grid_template_columns": null,
      "grid_template_rows": null,
      "height": null,
      "justify_content": null,
      "justify_items": null,
      "left": null,
      "margin": null,
      "max_height": null,
      "max_width": null,
      "min_height": null,
      "min_width": null,
      "object_fit": null,
      "object_position": null,
      "order": null,
      "overflow": null,
      "overflow_x": null,
      "overflow_y": null,
      "padding": null,
      "right": null,
      "top": null,
      "visibility": null,
      "width": null
     }
    },
    "5d1ce0ef64c74513845ef90fe7aa9486": {
     "model_module": "@jupyter-widgets/controls",
     "model_module_version": "1.5.0",
     "model_name": "HTMLModel",
     "state": {
      "_dom_classes": [],
      "_model_module": "@jupyter-widgets/controls",
      "_model_module_version": "1.5.0",
      "_model_name": "HTMLModel",
      "_view_count": null,
      "_view_module": "@jupyter-widgets/controls",
      "_view_module_version": "1.5.0",
      "_view_name": "HTMLView",
      "description": "",
      "description_tooltip": null,
      "layout": "IPY_MODEL_da92716b98e04e88af420f578e8312e0",
      "placeholder": "​",
      "style": "IPY_MODEL_88a3473457f14cf182f9a68485e2c2a9",
      "value": " 2920/226834 [00:23&lt;24:57, 149.57it/s]"
     }
    },
    "700e364b7b76479ca34162a7b667a7a7": {
     "model_module": "@jupyter-widgets/controls",
     "model_module_version": "1.5.0",
     "model_name": "FloatProgressModel",
     "state": {
      "_dom_classes": [],
      "_model_module": "@jupyter-widgets/controls",
      "_model_module_version": "1.5.0",
      "_model_name": "FloatProgressModel",
      "_view_count": null,
      "_view_module": "@jupyter-widgets/controls",
      "_view_module_version": "1.5.0",
      "_view_name": "ProgressView",
      "bar_style": "",
      "description": "",
      "description_tooltip": null,
      "layout": "IPY_MODEL_d1b2f3c6f46e4c2fba5ddedc2cf89b72",
      "max": 226834,
      "min": 0,
      "orientation": "horizontal",
      "style": "IPY_MODEL_7884eda9e76a4b1c8e47dd429e7dea0d",
      "value": 2920
     }
    },
    "73fd07c0315e4872b8f736c4daa4b799": {
     "model_module": "@jupyter-widgets/controls",
     "model_module_version": "1.5.0",
     "model_name": "HTMLModel",
     "state": {
      "_dom_classes": [],
      "_model_module": "@jupyter-widgets/controls",
      "_model_module_version": "1.5.0",
      "_model_name": "HTMLModel",
      "_view_count": null,
      "_view_module": "@jupyter-widgets/controls",
      "_view_module_version": "1.5.0",
      "_view_name": "HTMLView",
      "description": "",
      "description_tooltip": null,
      "layout": "IPY_MODEL_485b142bc5434f80b290cc922c418706",
      "placeholder": "​",
      "style": "IPY_MODEL_f333e8860af44c15baf098fee1093a27",
      "value": "100%"
     }
    },
    "7884eda9e76a4b1c8e47dd429e7dea0d": {
     "model_module": "@jupyter-widgets/controls",
     "model_module_version": "1.5.0",
     "model_name": "ProgressStyleModel",
     "state": {
      "_model_module": "@jupyter-widgets/controls",
      "_model_module_version": "1.5.0",
      "_model_name": "ProgressStyleModel",
      "_view_count": null,
      "_view_module": "@jupyter-widgets/base",
      "_view_module_version": "1.2.0",
      "_view_name": "StyleView",
      "bar_color": null,
      "description_width": ""
     }
    },
    "83e65cb9eb2a409cb5d2faae3257cc9d": {
     "model_module": "@jupyter-widgets/base",
     "model_module_version": "1.2.0",
     "model_name": "LayoutModel",
     "state": {
      "_model_module": "@jupyter-widgets/base",
      "_model_module_version": "1.2.0",
      "_model_name": "LayoutModel",
      "_view_count": null,
      "_view_module": "@jupyter-widgets/base",
      "_view_module_version": "1.2.0",
      "_view_name": "LayoutView",
      "align_content": null,
      "align_items": null,
      "align_self": null,
      "border": null,
      "bottom": null,
      "display": null,
      "flex": null,
      "flex_flow": null,
      "grid_area": null,
      "grid_auto_columns": null,
      "grid_auto_flow": null,
      "grid_auto_rows": null,
      "grid_column": null,
      "grid_gap": null,
      "grid_row": null,
      "grid_template_areas": null,
      "grid_template_columns": null,
      "grid_template_rows": null,
      "height": null,
      "justify_content": null,
      "justify_items": null,
      "left": null,
      "margin": null,
      "max_height": null,
      "max_width": null,
      "min_height": null,
      "min_width": null,
      "object_fit": null,
      "object_position": null,
      "order": null,
      "overflow": null,
      "overflow_x": null,
      "overflow_y": null,
      "padding": null,
      "right": null,
      "top": null,
      "visibility": null,
      "width": null
     }
    },
    "88a3473457f14cf182f9a68485e2c2a9": {
     "model_module": "@jupyter-widgets/controls",
     "model_module_version": "1.5.0",
     "model_name": "DescriptionStyleModel",
     "state": {
      "_model_module": "@jupyter-widgets/controls",
      "_model_module_version": "1.5.0",
      "_model_name": "DescriptionStyleModel",
      "_view_count": null,
      "_view_module": "@jupyter-widgets/base",
      "_view_module_version": "1.2.0",
      "_view_name": "StyleView",
      "description_width": ""
     }
    },
    "93c7bb2dfbb14665a39b01a19108951b": {
     "model_module": "@jupyter-widgets/controls",
     "model_module_version": "1.5.0",
     "model_name": "HTMLModel",
     "state": {
      "_dom_classes": [],
      "_model_module": "@jupyter-widgets/controls",
      "_model_module_version": "1.5.0",
      "_model_name": "HTMLModel",
      "_view_count": null,
      "_view_module": "@jupyter-widgets/controls",
      "_view_module_version": "1.5.0",
      "_view_name": "HTMLView",
      "description": "",
      "description_tooltip": null,
      "layout": "IPY_MODEL_83e65cb9eb2a409cb5d2faae3257cc9d",
      "placeholder": "​",
      "style": "IPY_MODEL_19a3145f442a4ccb88291cb1cc4d0ce8",
      "value": " 4/4 [00:00&lt;00:00,  8.73it/s]"
     }
    },
    "9713e212bd6b432a9f4462ac9310e289": {
     "model_module": "@jupyter-widgets/base",
     "model_module_version": "1.2.0",
     "model_name": "LayoutModel",
     "state": {
      "_model_module": "@jupyter-widgets/base",
      "_model_module_version": "1.2.0",
      "_model_name": "LayoutModel",
      "_view_count": null,
      "_view_module": "@jupyter-widgets/base",
      "_view_module_version": "1.2.0",
      "_view_name": "LayoutView",
      "align_content": null,
      "align_items": null,
      "align_self": null,
      "border": null,
      "bottom": null,
      "display": null,
      "flex": null,
      "flex_flow": null,
      "grid_area": null,
      "grid_auto_columns": null,
      "grid_auto_flow": null,
      "grid_auto_rows": null,
      "grid_column": null,
      "grid_gap": null,
      "grid_row": null,
      "grid_template_areas": null,
      "grid_template_columns": null,
      "grid_template_rows": null,
      "height": null,
      "justify_content": null,
      "justify_items": null,
      "left": null,
      "margin": null,
      "max_height": null,
      "max_width": null,
      "min_height": null,
      "min_width": null,
      "object_fit": null,
      "object_position": null,
      "order": null,
      "overflow": null,
      "overflow_x": null,
      "overflow_y": null,
      "padding": null,
      "right": null,
      "top": null,
      "visibility": null,
      "width": null
     }
    },
    "b80f513fdabd40fba07d5d0e5975f763": {
     "model_module": "@jupyter-widgets/base",
     "model_module_version": "1.2.0",
     "model_name": "LayoutModel",
     "state": {
      "_model_module": "@jupyter-widgets/base",
      "_model_module_version": "1.2.0",
      "_model_name": "LayoutModel",
      "_view_count": null,
      "_view_module": "@jupyter-widgets/base",
      "_view_module_version": "1.2.0",
      "_view_name": "LayoutView",
      "align_content": null,
      "align_items": null,
      "align_self": null,
      "border": null,
      "bottom": null,
      "display": null,
      "flex": null,
      "flex_flow": null,
      "grid_area": null,
      "grid_auto_columns": null,
      "grid_auto_flow": null,
      "grid_auto_rows": null,
      "grid_column": null,
      "grid_gap": null,
      "grid_row": null,
      "grid_template_areas": null,
      "grid_template_columns": null,
      "grid_template_rows": null,
      "height": null,
      "justify_content": null,
      "justify_items": null,
      "left": null,
      "margin": null,
      "max_height": null,
      "max_width": null,
      "min_height": null,
      "min_width": null,
      "object_fit": null,
      "object_position": null,
      "order": null,
      "overflow": null,
      "overflow_x": null,
      "overflow_y": null,
      "padding": null,
      "right": null,
      "top": null,
      "visibility": null,
      "width": null
     }
    },
    "bb12053415b54ebf9e9dd45d719e021f": {
     "model_module": "@jupyter-widgets/controls",
     "model_module_version": "1.5.0",
     "model_name": "DescriptionStyleModel",
     "state": {
      "_model_module": "@jupyter-widgets/controls",
      "_model_module_version": "1.5.0",
      "_model_name": "DescriptionStyleModel",
      "_view_count": null,
      "_view_module": "@jupyter-widgets/base",
      "_view_module_version": "1.2.0",
      "_view_name": "StyleView",
      "description_width": ""
     }
    },
    "bc2228e2d72847f4afed541560575ab0": {
     "model_module": "@jupyter-widgets/controls",
     "model_module_version": "1.5.0",
     "model_name": "FloatProgressModel",
     "state": {
      "_dom_classes": [],
      "_model_module": "@jupyter-widgets/controls",
      "_model_module_version": "1.5.0",
      "_model_name": "FloatProgressModel",
      "_view_count": null,
      "_view_module": "@jupyter-widgets/controls",
      "_view_module_version": "1.5.0",
      "_view_name": "ProgressView",
      "bar_style": "success",
      "description": "",
      "description_tooltip": null,
      "layout": "IPY_MODEL_b80f513fdabd40fba07d5d0e5975f763",
      "max": 4,
      "min": 0,
      "orientation": "horizontal",
      "style": "IPY_MODEL_4d3611ace6734d08899cb39b8cba033b",
      "value": 4
     }
    },
    "d1b2f3c6f46e4c2fba5ddedc2cf89b72": {
     "model_module": "@jupyter-widgets/base",
     "model_module_version": "1.2.0",
     "model_name": "LayoutModel",
     "state": {
      "_model_module": "@jupyter-widgets/base",
      "_model_module_version": "1.2.0",
      "_model_name": "LayoutModel",
      "_view_count": null,
      "_view_module": "@jupyter-widgets/base",
      "_view_module_version": "1.2.0",
      "_view_name": "LayoutView",
      "align_content": null,
      "align_items": null,
      "align_self": null,
      "border": null,
      "bottom": null,
      "display": null,
      "flex": null,
      "flex_flow": null,
      "grid_area": null,
      "grid_auto_columns": null,
      "grid_auto_flow": null,
      "grid_auto_rows": null,
      "grid_column": null,
      "grid_gap": null,
      "grid_row": null,
      "grid_template_areas": null,
      "grid_template_columns": null,
      "grid_template_rows": null,
      "height": null,
      "justify_content": null,
      "justify_items": null,
      "left": null,
      "margin": null,
      "max_height": null,
      "max_width": null,
      "min_height": null,
      "min_width": null,
      "object_fit": null,
      "object_position": null,
      "order": null,
      "overflow": null,
      "overflow_x": null,
      "overflow_y": null,
      "padding": null,
      "right": null,
      "top": null,
      "visibility": null,
      "width": null
     }
    },
    "d819485dd6ab4b3484c9917ee3687c20": {
     "model_module": "@jupyter-widgets/controls",
     "model_module_version": "1.5.0",
     "model_name": "HBoxModel",
     "state": {
      "_dom_classes": [],
      "_model_module": "@jupyter-widgets/controls",
      "_model_module_version": "1.5.0",
      "_model_name": "HBoxModel",
      "_view_count": null,
      "_view_module": "@jupyter-widgets/controls",
      "_view_module_version": "1.5.0",
      "_view_name": "HBoxView",
      "box_style": "",
      "children": [
       "IPY_MODEL_73fd07c0315e4872b8f736c4daa4b799",
       "IPY_MODEL_bc2228e2d72847f4afed541560575ab0",
       "IPY_MODEL_93c7bb2dfbb14665a39b01a19108951b"
      ],
      "layout": "IPY_MODEL_5b9c6447279c4e288c3c8c5c8a825dea"
     }
    },
    "da92716b98e04e88af420f578e8312e0": {
     "model_module": "@jupyter-widgets/base",
     "model_module_version": "1.2.0",
     "model_name": "LayoutModel",
     "state": {
      "_model_module": "@jupyter-widgets/base",
      "_model_module_version": "1.2.0",
      "_model_name": "LayoutModel",
      "_view_count": null,
      "_view_module": "@jupyter-widgets/base",
      "_view_module_version": "1.2.0",
      "_view_name": "LayoutView",
      "align_content": null,
      "align_items": null,
      "align_self": null,
      "border": null,
      "bottom": null,
      "display": null,
      "flex": null,
      "flex_flow": null,
      "grid_area": null,
      "grid_auto_columns": null,
      "grid_auto_flow": null,
      "grid_auto_rows": null,
      "grid_column": null,
      "grid_gap": null,
      "grid_row": null,
      "grid_template_areas": null,
      "grid_template_columns": null,
      "grid_template_rows": null,
      "height": null,
      "justify_content": null,
      "justify_items": null,
      "left": null,
      "margin": null,
      "max_height": null,
      "max_width": null,
      "min_height": null,
      "min_width": null,
      "object_fit": null,
      "object_position": null,
      "order": null,
      "overflow": null,
      "overflow_x": null,
      "overflow_y": null,
      "padding": null,
      "right": null,
      "top": null,
      "visibility": null,
      "width": null
     }
    },
    "dde669fa0efe48b5bafca4c3ac68975f": {
     "model_module": "@jupyter-widgets/base",
     "model_module_version": "1.2.0",
     "model_name": "LayoutModel",
     "state": {
      "_model_module": "@jupyter-widgets/base",
      "_model_module_version": "1.2.0",
      "_model_name": "LayoutModel",
      "_view_count": null,
      "_view_module": "@jupyter-widgets/base",
      "_view_module_version": "1.2.0",
      "_view_name": "LayoutView",
      "align_content": null,
      "align_items": null,
      "align_self": null,
      "border": null,
      "bottom": null,
      "display": null,
      "flex": null,
      "flex_flow": null,
      "grid_area": null,
      "grid_auto_columns": null,
      "grid_auto_flow": null,
      "grid_auto_rows": null,
      "grid_column": null,
      "grid_gap": null,
      "grid_row": null,
      "grid_template_areas": null,
      "grid_template_columns": null,
      "grid_template_rows": null,
      "height": null,
      "justify_content": null,
      "justify_items": null,
      "left": null,
      "margin": null,
      "max_height": null,
      "max_width": null,
      "min_height": null,
      "min_width": null,
      "object_fit": null,
      "object_position": null,
      "order": null,
      "overflow": null,
      "overflow_x": null,
      "overflow_y": null,
      "padding": null,
      "right": null,
      "top": null,
      "visibility": null,
      "width": null
     }
    },
    "f333e8860af44c15baf098fee1093a27": {
     "model_module": "@jupyter-widgets/controls",
     "model_module_version": "1.5.0",
     "model_name": "DescriptionStyleModel",
     "state": {
      "_model_module": "@jupyter-widgets/controls",
      "_model_module_version": "1.5.0",
      "_model_name": "DescriptionStyleModel",
      "_view_count": null,
      "_view_module": "@jupyter-widgets/base",
      "_view_module_version": "1.2.0",
      "_view_name": "StyleView",
      "description_width": ""
     }
    }
   }
  }
 },
 "nbformat": 4,
 "nbformat_minor": 1
}
